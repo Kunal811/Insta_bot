{
 "cells": [
  {
   "cell_type": "code",
   "execution_count": 1,
   "metadata": {},
   "outputs": [],
   "source": [
    "from selenium import webdriver\n",
    "from selenium.webdriver.common.keys import Keys \n",
    "from bs4 import BeautifulSoup as bs\n",
    "import time\n",
    "from selenium.webdriver.support.ui import WebDriverWait\n",
    "from selenium.webdriver.support import expected_conditions as EC\n",
    "from selenium.webdriver.common.by import By\n",
    "from selenium.webdriver.common.action_chains import ActionChains\n",
    "driver=webdriver.Chrome(executable_path = r'C:\\Users\\kunal\\Downloads\\chromedriver.exe')\n",
    "driver.get('https://www.instagram.com/')\n",
    "from selenium.common.exceptions import TimeoutException\n",
    "import matplotlib.pyplot  as plt\n"
   ]
  },
  {
   "cell_type": "code",
   "execution_count": 3,
   "metadata": {},
   "outputs": [],
   "source": [
    "def login(username,password):\n",
    "    try:\n",
    "        text_box1=driver.find_element_by_xpath('//*[@id=\"react-root\"]/section/main/article/div[2]/div[1]/div/form/div[2]/div/label/input')\n",
    "        ##enter username\n",
    "        text_box1.send_keys(username)\n",
    "        text_box2=driver.find_element_by_xpath('//*[@id=\"react-root\"]/section/main/article/div[2]/div[1]/div/form/div[3]/div/label/input')\n",
    "        ##enter password\n",
    "        text_box2.send_keys(password)\n",
    "        #click login in button\n",
    "        driver.find_element_by_xpath('//*[@id=\"react-root\"]/section/main/article/div[2]/div[1]/div/form/div[4]/button/div').click()\n",
    "        wait=WebDriverWait(driver,5)\n",
    "\n",
    "        not_now_button=wait.until(EC.presence_of_element_located((By.XPATH,'/html/body/div[4]/div/div/div[3]/button[2]')))\n",
    "        not_now_button.click()\n",
    "    except TimeoutException:\n",
    "        print('wrong username or password')"
   ]
  },
  {
   "cell_type": "code",
   "execution_count": 37,
   "metadata": {},
   "outputs": [],
   "source": [
    "def print_food_handles():\n",
    "    driver.get('https://www.instagram.com/')\n",
    "    text_box=driver.find_element_by_class_name('XTCLo')\n",
    "    text_box.clear()\n",
    "    text_box.send_keys('food')\n",
    "    time.sleep(10)\n",
    "    data1=bs(driver.page_source,'lxml')\n",
    "\n",
    "#     wait.until(EC.presence_of_element_located((By.XPATH,'//*[@id=\"react-root\"]/section/nav/div[2]/div/div/div[2]/div[2]/div[2]')))\n",
    "                                              \n",
    "    l1=data1.find_all('div',class_='fuqBx')\n",
    "    \n",
    "    ##b represents list of all the food handles\n",
    "    b=l1[0].find_all('a',class_='yCE8d')\n",
    "    l=[]\n",
    "    for i in b:\n",
    "        n1=i['href']\n",
    "        ##to not include hashtags and locations\n",
    "        if('explore' not in n1):\n",
    "            l.append(n1[1:-1])\n",
    "    return l"
   ]
  },
  {
   "cell_type": "code",
   "execution_count": 38,
   "metadata": {},
   "outputs": [],
   "source": [
    "def open_profile(handle):\n",
    "    driver.get('https://www.instagram.com/')\n",
    "    ##stext_bo represents the search box\n",
    "    text_bo=driver.find_element_by_class_name('XTCLo')\n",
    "    ##clear out any text writeen in the search box\n",
    "    text_bo.clear()\n",
    "    text_bo.send_keys(handle)\n",
    "    ##pressing the enter key to show the insta handle\n",
    "    driver.implicitly_wait(5)\n",
    "\n",
    "    driver.find_element_by_xpath('//*[@id=\"react-root\"]/section/nav/div[2]/div/div/div[2]/div[2]/div[2]/div/a[1]/div').click()\n",
    "    wait=WebDriverWait(driver,5)\n",
    "    wait.until(EC.presence_of_element_located((By.XPATH,'//*[@id=\"react-root\"]/section/main/div/header/section/ul/li[2]/a')))\n",
    "    followers=(driver.find_element_by_xpath('//*[@id=\"react-root\"]/section/main/div/header/section/ul/li[2]/a/span').get_attribute('title'))\n",
    "    \n",
    "    return followers"
   ]
  },
  {
   "cell_type": "code",
   "execution_count": 39,
   "metadata": {},
   "outputs": [],
   "source": [
    "##returns the top5 food handles with highest number of followers \n",
    "def highest():\n",
    "    list_of_food_handles=print_food_handles()\n",
    "    d={}\n",
    "    for i in list_of_food_handles[:10]:\n",
    "        followers=open_profile(i)\n",
    "        followers=int(followers.replace(',',''))\n",
    "        d[i]=followers\n",
    "    l_sorted=sorted(d,key=d.get,reverse=True)\n",
    "    l_top5=l_sorted[:5]\n",
    "    return l_top5\n"
   ]
  },
  {
   "cell_type": "code",
   "execution_count": 40,
   "metadata": {},
   "outputs": [],
   "source": [
    "##this function counts the number of posts in past 3 days\n",
    "def num_of_posts_past3_days(handle):\n",
    "    driver.get('https://www.instagram.com/')\n",
    "    text_bo=driver.find_element_by_class_name('XTCLo')\n",
    "    #clear out any text writeen in the search box\n",
    "    text_bo.clear()\n",
    "    #Enter the name of hadle in the text box\n",
    "    text_bo.send_keys(handle)\n",
    "    driver.implicitly_wait(5)\n",
    "    wait=WebDriverWait(driver,5)\n",
    "    \n",
    "    #clicking on 1st handle in the dropdown  to show the insta handle\n",
    "    driver.find_element_by_xpath('//*[@id=\"react-root\"]/section/nav/div[2]/div/div/div[2]/div[2]/div[2]/div/a[1]/div').click()\n",
    "\n",
    "    #wait till 1st posts arrives \n",
    "    wait.until(EC.presence_of_element_located((By.XPATH,'//div[contains(@class,\"_2z6nI\")]//div[contains(@class,\"v1Nh3\")]')))\n",
    "    list_of_days=['1 DAY AGO','2 DAYS AGO','3 DAYS AGO']\n",
    "    #count represents posts of past 3 days\n",
    "    count=0\n",
    "    for i in driver.find_elements_by_class_name('_9AhH0')[:10]:\n",
    "        i.click()##click on post\n",
    "        driver.implicitly_wait(5)\n",
    "        time_info=driver.find_element_by_xpath('/html/body/div[4]/div[2]/div/article/div[2]/div[2]/a/time')\n",
    "        #if time_info.text is in past 3 days then count it in number of posts\n",
    "        if(time_info.text in list_of_days or 'HOURS AGO' in time_info.text):\n",
    "            count+=1\n",
    "            \n",
    "        else:\n",
    "            #press the close button and break from the loop \n",
    "            driver.find_element_by_xpath('/html/body/div[4]/div[3]/button').click()\n",
    "            break\n",
    "        #press the close button\n",
    "        driver.find_element_by_xpath('/html/body/div[4]/div[3]/button').click()\n",
    "    return count       \n"
   ]
  },
  {
   "cell_type": "code",
   "execution_count": 41,
   "metadata": {},
   "outputs": [],
   "source": [
    "def scrape_content(handle):\n",
    "    l=[]\n",
    "    open_profile(handle)\n",
    "    wait=WebDriverWait(driver,5)\n",
    "    \n",
    "    #clicking on 1st handle in the dropdown  to show the insta handle\n",
    "    wait.until(EC.presence_of_element_located((By.XPATH,'//div[contains(@class,\"_2z6nI\")]//div[contains(@class,\"v1Nh3\")]')))\n",
    "    \n",
    "    \n",
    "    for i in driver.find_elements_by_class_name('_9AhH0')[:10]:\n",
    "            i.click()##click on post\n",
    "            driver.implicitly_wait(5)\n",
    "            #a.text represents the content of a post \n",
    "            a=driver.find_element_by_xpath('/html/body/div[4]/div[2]/div/article/div[2]/div[1]/ul/div/li/div/div/div[2]/span')\n",
    "            l.append(a.text)\n",
    "            #click on close button\n",
    "            driver.find_element_by_xpath('/html/body/div[4]/div[3]/button').click()\n",
    "\n",
    "    return l\n"
   ]
  },
  {
   "cell_type": "code",
   "execution_count": 42,
   "metadata": {},
   "outputs": [],
   "source": [
    "##returns avg_like to followers ratio\n",
    "def followers_like_ratio(handle):\n",
    "    followers=open_profile(handle)\n",
    "    followers=followers.replace(',','')\n",
    "    followers=int(followers)\n",
    "    wait=WebDriverWait(driver,5)\n",
    "    ##wait for 1st post to arrive \n",
    "    wait.until(EC.presence_of_element_located((By.XPATH,'//div[contains(@class,\"_2z6nI\")]//div[contains(@class,\"v1Nh3\")]')))\n",
    "\n",
    "    likes=[]\n",
    "    from selenium.common.exceptions import NoSuchElementException\n",
    "    ##for loop gives the top 10 post of the handle\n",
    "    for i in driver.find_elements_by_class_name('_9AhH0')[:10]:\n",
    "            i.click()##click on post\n",
    "            driver.implicitly_wait(5)\n",
    "            wait=WebDriverWait(driver,5)\n",
    "            #We have to use try except block as if there an IGTV or Video then we have to click on the views option as done in try block\n",
    "            #If it isn't an IGTV or video then in try block an exception will be raised and control will be given to except block \n",
    "            #If the control transfers to the except block then it means that it is a normal post \n",
    "            #If it is a normal post then the number of likes can be directly obtained as done in except block\n",
    "            try:\n",
    "                ##it is an igtv or video\n",
    "                \n",
    "                #we have to click on the views button\n",
    "                driver.find_element_by_xpath('/html/body/div[4]/div[2]/div/article/div[2]/section[2]/div/span').click()\n",
    "                \n",
    "                #after clicking on views button number of likes will appear\n",
    "                #a.text represents number of likes on that post\n",
    "                a=wait.until(EC.presence_of_element_located((By.XPATH,'/html/body/div[4]/div[2]/div/article/div[2]/section[2]/div/div/div[4]/span')))\n",
    "                b=a.text\n",
    "                b=b.replace(',','')#replace ',' by '' so that conversion into integers is easy\n",
    "                likes.append(int(b))\n",
    "                \n",
    "                #now as we click on the views then all the buttons get deactivated \n",
    "                #So we have to click on post dialog box so that close button activates again\n",
    "                driver.find_element_by_xpath('/html/body/div[4]/div[2]/div/article/div[2]/section[2]/div/div/div[1]').click()\n",
    "                #now click on close button to close that post\n",
    "                driver.find_element_by_xpath('/html/body/div[4]/div[3]/button').click()\n",
    "            except NoSuchElementException:\n",
    "                ##it is a picture or a series of picture\n",
    "                \n",
    "                #a.text represents the number of likes in string\n",
    "                a=driver.find_element_by_xpath('/html/body/div[4]/div[2]/div/article/div[2]/section[2]/div/div/button/span')\n",
    "                b=a.text\n",
    "                b=b.replace(',','')\n",
    "                likes.append(int(b))\n",
    "                \n",
    "                #click on close button to close that post \n",
    "                driver.find_element_by_xpath('/html/body/div[4]/div[3]/button').click()\n",
    "            \n",
    "    #average likes for a handle is defined as the sum of likes on all top ten posts divided by 10\n",
    "    avg_likes=sum(likes)/10\n",
    "    \n",
    "    #ratio is defined as the divison of avg_likes and the number of followers of that handle\n",
    "    ratio=avg_likes/followers\n",
    "    return ratio\n",
    "    "
   ]
  },
  {
   "cell_type": "code",
   "execution_count": 4,
   "metadata": {},
   "outputs": [
    {
     "name": "stdout",
     "output_type": "stream",
     "text": [
      "Pls enter your username for login: decde\n",
      "Pls enter your password for login: cdcdc\n"
     ]
    },
    {
     "ename": "KeyboardInterrupt",
     "evalue": "",
     "output_type": "error",
     "traceback": [
      "\u001b[1;31m---------------------------------------------------------------------------\u001b[0m",
      "\u001b[1;31mKeyboardInterrupt\u001b[0m                         Traceback (most recent call last)",
      "\u001b[1;32m<ipython-input-4-e6b4af7d97e5>\u001b[0m in \u001b[0;36m<module>\u001b[1;34m\u001b[0m\n\u001b[0;32m      1\u001b[0m \u001b[0mUsername\u001b[0m\u001b[1;33m=\u001b[0m\u001b[0minput\u001b[0m\u001b[1;33m(\u001b[0m\u001b[1;34m'Pls enter your username for login: '\u001b[0m\u001b[1;33m)\u001b[0m\u001b[1;33m\u001b[0m\u001b[1;33m\u001b[0m\u001b[0m\n\u001b[0;32m      2\u001b[0m \u001b[0mPassword\u001b[0m\u001b[1;33m=\u001b[0m\u001b[0minput\u001b[0m\u001b[1;33m(\u001b[0m\u001b[1;34m'Pls enter your password for login: '\u001b[0m\u001b[1;33m)\u001b[0m\u001b[1;33m\u001b[0m\u001b[1;33m\u001b[0m\u001b[0m\n\u001b[1;32m----> 3\u001b[1;33m \u001b[0mlogin\u001b[0m\u001b[1;33m(\u001b[0m\u001b[0mUsername\u001b[0m\u001b[1;33m,\u001b[0m\u001b[0mPassword\u001b[0m\u001b[1;33m)\u001b[0m\u001b[1;33m\u001b[0m\u001b[1;33m\u001b[0m\u001b[0m\n\u001b[0m",
      "\u001b[1;32m<ipython-input-3-3292d137df8d>\u001b[0m in \u001b[0;36mlogin\u001b[1;34m(username, password)\u001b[0m\n\u001b[0;32m      1\u001b[0m \u001b[1;32mdef\u001b[0m \u001b[0mlogin\u001b[0m\u001b[1;33m(\u001b[0m\u001b[0musername\u001b[0m\u001b[1;33m,\u001b[0m\u001b[0mpassword\u001b[0m\u001b[1;33m)\u001b[0m\u001b[1;33m:\u001b[0m\u001b[1;33m\u001b[0m\u001b[1;33m\u001b[0m\u001b[0m\n\u001b[0;32m      2\u001b[0m     \u001b[1;32mtry\u001b[0m\u001b[1;33m:\u001b[0m\u001b[1;33m\u001b[0m\u001b[1;33m\u001b[0m\u001b[0m\n\u001b[1;32m----> 3\u001b[1;33m         \u001b[0mtext_box1\u001b[0m\u001b[1;33m=\u001b[0m\u001b[0mdriver\u001b[0m\u001b[1;33m.\u001b[0m\u001b[0mfind_element_by_xpath\u001b[0m\u001b[1;33m(\u001b[0m\u001b[1;34m'//*[@id=\"react-root\"]/section/main/article/div[2]/div[1]/div/form/div[2]/div/label/input'\u001b[0m\u001b[1;33m)\u001b[0m\u001b[1;33m\u001b[0m\u001b[1;33m\u001b[0m\u001b[0m\n\u001b[0m\u001b[0;32m      4\u001b[0m         \u001b[1;31m##enter username\u001b[0m\u001b[1;33m\u001b[0m\u001b[1;33m\u001b[0m\u001b[1;33m\u001b[0m\u001b[0m\n\u001b[0;32m      5\u001b[0m         \u001b[0mtext_box1\u001b[0m\u001b[1;33m.\u001b[0m\u001b[0msend_keys\u001b[0m\u001b[1;33m(\u001b[0m\u001b[0musername\u001b[0m\u001b[1;33m)\u001b[0m\u001b[1;33m\u001b[0m\u001b[1;33m\u001b[0m\u001b[0m\n",
      "\u001b[1;32mD:\\Anaconda\\lib\\site-packages\\selenium\\webdriver\\remote\\webdriver.py\u001b[0m in \u001b[0;36mfind_element_by_xpath\u001b[1;34m(self, xpath)\u001b[0m\n\u001b[0;32m    392\u001b[0m             \u001b[0melement\u001b[0m \u001b[1;33m=\u001b[0m \u001b[0mdriver\u001b[0m\u001b[1;33m.\u001b[0m\u001b[0mfind_element_by_xpath\u001b[0m\u001b[1;33m(\u001b[0m\u001b[1;34m'//div/td[1]'\u001b[0m\u001b[1;33m)\u001b[0m\u001b[1;33m\u001b[0m\u001b[1;33m\u001b[0m\u001b[0m\n\u001b[0;32m    393\u001b[0m         \"\"\"\n\u001b[1;32m--> 394\u001b[1;33m         \u001b[1;32mreturn\u001b[0m \u001b[0mself\u001b[0m\u001b[1;33m.\u001b[0m\u001b[0mfind_element\u001b[0m\u001b[1;33m(\u001b[0m\u001b[0mby\u001b[0m\u001b[1;33m=\u001b[0m\u001b[0mBy\u001b[0m\u001b[1;33m.\u001b[0m\u001b[0mXPATH\u001b[0m\u001b[1;33m,\u001b[0m \u001b[0mvalue\u001b[0m\u001b[1;33m=\u001b[0m\u001b[0mxpath\u001b[0m\u001b[1;33m)\u001b[0m\u001b[1;33m\u001b[0m\u001b[1;33m\u001b[0m\u001b[0m\n\u001b[0m\u001b[0;32m    395\u001b[0m \u001b[1;33m\u001b[0m\u001b[0m\n\u001b[0;32m    396\u001b[0m     \u001b[1;32mdef\u001b[0m \u001b[0mfind_elements_by_xpath\u001b[0m\u001b[1;33m(\u001b[0m\u001b[0mself\u001b[0m\u001b[1;33m,\u001b[0m \u001b[0mxpath\u001b[0m\u001b[1;33m)\u001b[0m\u001b[1;33m:\u001b[0m\u001b[1;33m\u001b[0m\u001b[1;33m\u001b[0m\u001b[0m\n",
      "\u001b[1;32mD:\\Anaconda\\lib\\site-packages\\selenium\\webdriver\\remote\\webdriver.py\u001b[0m in \u001b[0;36mfind_element\u001b[1;34m(self, by, value)\u001b[0m\n\u001b[0;32m    976\u001b[0m         return self.execute(Command.FIND_ELEMENT, {\n\u001b[0;32m    977\u001b[0m             \u001b[1;34m'using'\u001b[0m\u001b[1;33m:\u001b[0m \u001b[0mby\u001b[0m\u001b[1;33m,\u001b[0m\u001b[1;33m\u001b[0m\u001b[1;33m\u001b[0m\u001b[0m\n\u001b[1;32m--> 978\u001b[1;33m             'value': value})['value']\n\u001b[0m\u001b[0;32m    979\u001b[0m \u001b[1;33m\u001b[0m\u001b[0m\n\u001b[0;32m    980\u001b[0m     \u001b[1;32mdef\u001b[0m \u001b[0mfind_elements\u001b[0m\u001b[1;33m(\u001b[0m\u001b[0mself\u001b[0m\u001b[1;33m,\u001b[0m \u001b[0mby\u001b[0m\u001b[1;33m=\u001b[0m\u001b[0mBy\u001b[0m\u001b[1;33m.\u001b[0m\u001b[0mID\u001b[0m\u001b[1;33m,\u001b[0m \u001b[0mvalue\u001b[0m\u001b[1;33m=\u001b[0m\u001b[1;32mNone\u001b[0m\u001b[1;33m)\u001b[0m\u001b[1;33m:\u001b[0m\u001b[1;33m\u001b[0m\u001b[1;33m\u001b[0m\u001b[0m\n",
      "\u001b[1;32mD:\\Anaconda\\lib\\site-packages\\selenium\\webdriver\\remote\\webdriver.py\u001b[0m in \u001b[0;36mexecute\u001b[1;34m(self, driver_command, params)\u001b[0m\n\u001b[0;32m    317\u001b[0m \u001b[1;33m\u001b[0m\u001b[0m\n\u001b[0;32m    318\u001b[0m         \u001b[0mparams\u001b[0m \u001b[1;33m=\u001b[0m \u001b[0mself\u001b[0m\u001b[1;33m.\u001b[0m\u001b[0m_wrap_value\u001b[0m\u001b[1;33m(\u001b[0m\u001b[0mparams\u001b[0m\u001b[1;33m)\u001b[0m\u001b[1;33m\u001b[0m\u001b[1;33m\u001b[0m\u001b[0m\n\u001b[1;32m--> 319\u001b[1;33m         \u001b[0mresponse\u001b[0m \u001b[1;33m=\u001b[0m \u001b[0mself\u001b[0m\u001b[1;33m.\u001b[0m\u001b[0mcommand_executor\u001b[0m\u001b[1;33m.\u001b[0m\u001b[0mexecute\u001b[0m\u001b[1;33m(\u001b[0m\u001b[0mdriver_command\u001b[0m\u001b[1;33m,\u001b[0m \u001b[0mparams\u001b[0m\u001b[1;33m)\u001b[0m\u001b[1;33m\u001b[0m\u001b[1;33m\u001b[0m\u001b[0m\n\u001b[0m\u001b[0;32m    320\u001b[0m         \u001b[1;32mif\u001b[0m \u001b[0mresponse\u001b[0m\u001b[1;33m:\u001b[0m\u001b[1;33m\u001b[0m\u001b[1;33m\u001b[0m\u001b[0m\n\u001b[0;32m    321\u001b[0m             \u001b[0mself\u001b[0m\u001b[1;33m.\u001b[0m\u001b[0merror_handler\u001b[0m\u001b[1;33m.\u001b[0m\u001b[0mcheck_response\u001b[0m\u001b[1;33m(\u001b[0m\u001b[0mresponse\u001b[0m\u001b[1;33m)\u001b[0m\u001b[1;33m\u001b[0m\u001b[1;33m\u001b[0m\u001b[0m\n",
      "\u001b[1;32mD:\\Anaconda\\lib\\site-packages\\selenium\\webdriver\\remote\\remote_connection.py\u001b[0m in \u001b[0;36mexecute\u001b[1;34m(self, command, params)\u001b[0m\n\u001b[0;32m    372\u001b[0m         \u001b[0mdata\u001b[0m \u001b[1;33m=\u001b[0m \u001b[0mutils\u001b[0m\u001b[1;33m.\u001b[0m\u001b[0mdump_json\u001b[0m\u001b[1;33m(\u001b[0m\u001b[0mparams\u001b[0m\u001b[1;33m)\u001b[0m\u001b[1;33m\u001b[0m\u001b[1;33m\u001b[0m\u001b[0m\n\u001b[0;32m    373\u001b[0m         \u001b[0murl\u001b[0m \u001b[1;33m=\u001b[0m \u001b[1;34m'%s%s'\u001b[0m \u001b[1;33m%\u001b[0m \u001b[1;33m(\u001b[0m\u001b[0mself\u001b[0m\u001b[1;33m.\u001b[0m\u001b[0m_url\u001b[0m\u001b[1;33m,\u001b[0m \u001b[0mpath\u001b[0m\u001b[1;33m)\u001b[0m\u001b[1;33m\u001b[0m\u001b[1;33m\u001b[0m\u001b[0m\n\u001b[1;32m--> 374\u001b[1;33m         \u001b[1;32mreturn\u001b[0m \u001b[0mself\u001b[0m\u001b[1;33m.\u001b[0m\u001b[0m_request\u001b[0m\u001b[1;33m(\u001b[0m\u001b[0mcommand_info\u001b[0m\u001b[1;33m[\u001b[0m\u001b[1;36m0\u001b[0m\u001b[1;33m]\u001b[0m\u001b[1;33m,\u001b[0m \u001b[0murl\u001b[0m\u001b[1;33m,\u001b[0m \u001b[0mbody\u001b[0m\u001b[1;33m=\u001b[0m\u001b[0mdata\u001b[0m\u001b[1;33m)\u001b[0m\u001b[1;33m\u001b[0m\u001b[1;33m\u001b[0m\u001b[0m\n\u001b[0m\u001b[0;32m    375\u001b[0m \u001b[1;33m\u001b[0m\u001b[0m\n\u001b[0;32m    376\u001b[0m     \u001b[1;32mdef\u001b[0m \u001b[0m_request\u001b[0m\u001b[1;33m(\u001b[0m\u001b[0mself\u001b[0m\u001b[1;33m,\u001b[0m \u001b[0mmethod\u001b[0m\u001b[1;33m,\u001b[0m \u001b[0murl\u001b[0m\u001b[1;33m,\u001b[0m \u001b[0mbody\u001b[0m\u001b[1;33m=\u001b[0m\u001b[1;32mNone\u001b[0m\u001b[1;33m)\u001b[0m\u001b[1;33m:\u001b[0m\u001b[1;33m\u001b[0m\u001b[1;33m\u001b[0m\u001b[0m\n",
      "\u001b[1;32mD:\\Anaconda\\lib\\site-packages\\selenium\\webdriver\\remote\\remote_connection.py\u001b[0m in \u001b[0;36m_request\u001b[1;34m(self, method, url, body)\u001b[0m\n\u001b[0;32m    395\u001b[0m \u001b[1;33m\u001b[0m\u001b[0m\n\u001b[0;32m    396\u001b[0m         \u001b[1;32mif\u001b[0m \u001b[0mself\u001b[0m\u001b[1;33m.\u001b[0m\u001b[0mkeep_alive\u001b[0m\u001b[1;33m:\u001b[0m\u001b[1;33m\u001b[0m\u001b[1;33m\u001b[0m\u001b[0m\n\u001b[1;32m--> 397\u001b[1;33m             \u001b[0mresp\u001b[0m \u001b[1;33m=\u001b[0m \u001b[0mself\u001b[0m\u001b[1;33m.\u001b[0m\u001b[0m_conn\u001b[0m\u001b[1;33m.\u001b[0m\u001b[0mrequest\u001b[0m\u001b[1;33m(\u001b[0m\u001b[0mmethod\u001b[0m\u001b[1;33m,\u001b[0m \u001b[0murl\u001b[0m\u001b[1;33m,\u001b[0m \u001b[0mbody\u001b[0m\u001b[1;33m=\u001b[0m\u001b[0mbody\u001b[0m\u001b[1;33m,\u001b[0m \u001b[0mheaders\u001b[0m\u001b[1;33m=\u001b[0m\u001b[0mheaders\u001b[0m\u001b[1;33m)\u001b[0m\u001b[1;33m\u001b[0m\u001b[1;33m\u001b[0m\u001b[0m\n\u001b[0m\u001b[0;32m    398\u001b[0m \u001b[1;33m\u001b[0m\u001b[0m\n\u001b[0;32m    399\u001b[0m             \u001b[0mstatuscode\u001b[0m \u001b[1;33m=\u001b[0m \u001b[0mresp\u001b[0m\u001b[1;33m.\u001b[0m\u001b[0mstatus\u001b[0m\u001b[1;33m\u001b[0m\u001b[1;33m\u001b[0m\u001b[0m\n",
      "\u001b[1;32mD:\\Anaconda\\lib\\site-packages\\urllib3\\request.py\u001b[0m in \u001b[0;36mrequest\u001b[1;34m(self, method, url, fields, headers, **urlopen_kw)\u001b[0m\n\u001b[0;32m     78\u001b[0m         \u001b[1;32melse\u001b[0m\u001b[1;33m:\u001b[0m\u001b[1;33m\u001b[0m\u001b[1;33m\u001b[0m\u001b[0m\n\u001b[0;32m     79\u001b[0m             return self.request_encode_body(\n\u001b[1;32m---> 80\u001b[1;33m                 \u001b[0mmethod\u001b[0m\u001b[1;33m,\u001b[0m \u001b[0murl\u001b[0m\u001b[1;33m,\u001b[0m \u001b[0mfields\u001b[0m\u001b[1;33m=\u001b[0m\u001b[0mfields\u001b[0m\u001b[1;33m,\u001b[0m \u001b[0mheaders\u001b[0m\u001b[1;33m=\u001b[0m\u001b[0mheaders\u001b[0m\u001b[1;33m,\u001b[0m \u001b[1;33m**\u001b[0m\u001b[0murlopen_kw\u001b[0m\u001b[1;33m\u001b[0m\u001b[1;33m\u001b[0m\u001b[0m\n\u001b[0m\u001b[0;32m     81\u001b[0m             )\n\u001b[0;32m     82\u001b[0m \u001b[1;33m\u001b[0m\u001b[0m\n",
      "\u001b[1;32mD:\\Anaconda\\lib\\site-packages\\urllib3\\request.py\u001b[0m in \u001b[0;36mrequest_encode_body\u001b[1;34m(self, method, url, fields, headers, encode_multipart, multipart_boundary, **urlopen_kw)\u001b[0m\n\u001b[0;32m    169\u001b[0m         \u001b[0mextra_kw\u001b[0m\u001b[1;33m.\u001b[0m\u001b[0mupdate\u001b[0m\u001b[1;33m(\u001b[0m\u001b[0murlopen_kw\u001b[0m\u001b[1;33m)\u001b[0m\u001b[1;33m\u001b[0m\u001b[1;33m\u001b[0m\u001b[0m\n\u001b[0;32m    170\u001b[0m \u001b[1;33m\u001b[0m\u001b[0m\n\u001b[1;32m--> 171\u001b[1;33m         \u001b[1;32mreturn\u001b[0m \u001b[0mself\u001b[0m\u001b[1;33m.\u001b[0m\u001b[0murlopen\u001b[0m\u001b[1;33m(\u001b[0m\u001b[0mmethod\u001b[0m\u001b[1;33m,\u001b[0m \u001b[0murl\u001b[0m\u001b[1;33m,\u001b[0m \u001b[1;33m**\u001b[0m\u001b[0mextra_kw\u001b[0m\u001b[1;33m)\u001b[0m\u001b[1;33m\u001b[0m\u001b[1;33m\u001b[0m\u001b[0m\n\u001b[0m",
      "\u001b[1;32mD:\\Anaconda\\lib\\site-packages\\urllib3\\poolmanager.py\u001b[0m in \u001b[0;36murlopen\u001b[1;34m(self, method, url, redirect, **kw)\u001b[0m\n\u001b[0;32m    328\u001b[0m             \u001b[0mresponse\u001b[0m \u001b[1;33m=\u001b[0m \u001b[0mconn\u001b[0m\u001b[1;33m.\u001b[0m\u001b[0murlopen\u001b[0m\u001b[1;33m(\u001b[0m\u001b[0mmethod\u001b[0m\u001b[1;33m,\u001b[0m \u001b[0murl\u001b[0m\u001b[1;33m,\u001b[0m \u001b[1;33m**\u001b[0m\u001b[0mkw\u001b[0m\u001b[1;33m)\u001b[0m\u001b[1;33m\u001b[0m\u001b[1;33m\u001b[0m\u001b[0m\n\u001b[0;32m    329\u001b[0m         \u001b[1;32melse\u001b[0m\u001b[1;33m:\u001b[0m\u001b[1;33m\u001b[0m\u001b[1;33m\u001b[0m\u001b[0m\n\u001b[1;32m--> 330\u001b[1;33m             \u001b[0mresponse\u001b[0m \u001b[1;33m=\u001b[0m \u001b[0mconn\u001b[0m\u001b[1;33m.\u001b[0m\u001b[0murlopen\u001b[0m\u001b[1;33m(\u001b[0m\u001b[0mmethod\u001b[0m\u001b[1;33m,\u001b[0m \u001b[0mu\u001b[0m\u001b[1;33m.\u001b[0m\u001b[0mrequest_uri\u001b[0m\u001b[1;33m,\u001b[0m \u001b[1;33m**\u001b[0m\u001b[0mkw\u001b[0m\u001b[1;33m)\u001b[0m\u001b[1;33m\u001b[0m\u001b[1;33m\u001b[0m\u001b[0m\n\u001b[0m\u001b[0;32m    331\u001b[0m \u001b[1;33m\u001b[0m\u001b[0m\n\u001b[0;32m    332\u001b[0m         \u001b[0mredirect_location\u001b[0m \u001b[1;33m=\u001b[0m \u001b[0mredirect\u001b[0m \u001b[1;32mand\u001b[0m \u001b[0mresponse\u001b[0m\u001b[1;33m.\u001b[0m\u001b[0mget_redirect_location\u001b[0m\u001b[1;33m(\u001b[0m\u001b[1;33m)\u001b[0m\u001b[1;33m\u001b[0m\u001b[1;33m\u001b[0m\u001b[0m\n",
      "\u001b[1;32mD:\\Anaconda\\lib\\site-packages\\urllib3\\connectionpool.py\u001b[0m in \u001b[0;36murlopen\u001b[1;34m(self, method, url, body, headers, retries, redirect, assert_same_host, timeout, pool_timeout, release_conn, chunked, body_pos, **response_kw)\u001b[0m\n\u001b[0;32m    670\u001b[0m                 \u001b[0mbody\u001b[0m\u001b[1;33m=\u001b[0m\u001b[0mbody\u001b[0m\u001b[1;33m,\u001b[0m\u001b[1;33m\u001b[0m\u001b[1;33m\u001b[0m\u001b[0m\n\u001b[0;32m    671\u001b[0m                 \u001b[0mheaders\u001b[0m\u001b[1;33m=\u001b[0m\u001b[0mheaders\u001b[0m\u001b[1;33m,\u001b[0m\u001b[1;33m\u001b[0m\u001b[1;33m\u001b[0m\u001b[0m\n\u001b[1;32m--> 672\u001b[1;33m                 \u001b[0mchunked\u001b[0m\u001b[1;33m=\u001b[0m\u001b[0mchunked\u001b[0m\u001b[1;33m,\u001b[0m\u001b[1;33m\u001b[0m\u001b[1;33m\u001b[0m\u001b[0m\n\u001b[0m\u001b[0;32m    673\u001b[0m             )\n\u001b[0;32m    674\u001b[0m \u001b[1;33m\u001b[0m\u001b[0m\n",
      "\u001b[1;32mD:\\Anaconda\\lib\\site-packages\\urllib3\\connectionpool.py\u001b[0m in \u001b[0;36m_make_request\u001b[1;34m(self, conn, method, url, timeout, chunked, **httplib_request_kw)\u001b[0m\n\u001b[0;32m    419\u001b[0m                     \u001b[1;31m# Python 3 (including for exceptions like SystemExit).\u001b[0m\u001b[1;33m\u001b[0m\u001b[1;33m\u001b[0m\u001b[1;33m\u001b[0m\u001b[0m\n\u001b[0;32m    420\u001b[0m                     \u001b[1;31m# Otherwise it looks like a bug in the code.\u001b[0m\u001b[1;33m\u001b[0m\u001b[1;33m\u001b[0m\u001b[1;33m\u001b[0m\u001b[0m\n\u001b[1;32m--> 421\u001b[1;33m                     \u001b[0msix\u001b[0m\u001b[1;33m.\u001b[0m\u001b[0mraise_from\u001b[0m\u001b[1;33m(\u001b[0m\u001b[0me\u001b[0m\u001b[1;33m,\u001b[0m \u001b[1;32mNone\u001b[0m\u001b[1;33m)\u001b[0m\u001b[1;33m\u001b[0m\u001b[1;33m\u001b[0m\u001b[0m\n\u001b[0m\u001b[0;32m    422\u001b[0m         \u001b[1;32mexcept\u001b[0m \u001b[1;33m(\u001b[0m\u001b[0mSocketTimeout\u001b[0m\u001b[1;33m,\u001b[0m \u001b[0mBaseSSLError\u001b[0m\u001b[1;33m,\u001b[0m \u001b[0mSocketError\u001b[0m\u001b[1;33m)\u001b[0m \u001b[1;32mas\u001b[0m \u001b[0me\u001b[0m\u001b[1;33m:\u001b[0m\u001b[1;33m\u001b[0m\u001b[1;33m\u001b[0m\u001b[0m\n\u001b[0;32m    423\u001b[0m             \u001b[0mself\u001b[0m\u001b[1;33m.\u001b[0m\u001b[0m_raise_timeout\u001b[0m\u001b[1;33m(\u001b[0m\u001b[0merr\u001b[0m\u001b[1;33m=\u001b[0m\u001b[0me\u001b[0m\u001b[1;33m,\u001b[0m \u001b[0murl\u001b[0m\u001b[1;33m=\u001b[0m\u001b[0murl\u001b[0m\u001b[1;33m,\u001b[0m \u001b[0mtimeout_value\u001b[0m\u001b[1;33m=\u001b[0m\u001b[0mread_timeout\u001b[0m\u001b[1;33m)\u001b[0m\u001b[1;33m\u001b[0m\u001b[1;33m\u001b[0m\u001b[0m\n",
      "\u001b[1;32mD:\\Anaconda\\lib\\site-packages\\urllib3\\packages\\six.py\u001b[0m in \u001b[0;36mraise_from\u001b[1;34m(value, from_value)\u001b[0m\n",
      "\u001b[1;32mD:\\Anaconda\\lib\\site-packages\\urllib3\\connectionpool.py\u001b[0m in \u001b[0;36m_make_request\u001b[1;34m(self, conn, method, url, timeout, chunked, **httplib_request_kw)\u001b[0m\n\u001b[0;32m    414\u001b[0m                 \u001b[1;31m# Python 3\u001b[0m\u001b[1;33m\u001b[0m\u001b[1;33m\u001b[0m\u001b[1;33m\u001b[0m\u001b[0m\n\u001b[0;32m    415\u001b[0m                 \u001b[1;32mtry\u001b[0m\u001b[1;33m:\u001b[0m\u001b[1;33m\u001b[0m\u001b[1;33m\u001b[0m\u001b[0m\n\u001b[1;32m--> 416\u001b[1;33m                     \u001b[0mhttplib_response\u001b[0m \u001b[1;33m=\u001b[0m \u001b[0mconn\u001b[0m\u001b[1;33m.\u001b[0m\u001b[0mgetresponse\u001b[0m\u001b[1;33m(\u001b[0m\u001b[1;33m)\u001b[0m\u001b[1;33m\u001b[0m\u001b[1;33m\u001b[0m\u001b[0m\n\u001b[0m\u001b[0;32m    417\u001b[0m                 \u001b[1;32mexcept\u001b[0m \u001b[0mBaseException\u001b[0m \u001b[1;32mas\u001b[0m \u001b[0me\u001b[0m\u001b[1;33m:\u001b[0m\u001b[1;33m\u001b[0m\u001b[1;33m\u001b[0m\u001b[0m\n\u001b[0;32m    418\u001b[0m                     \u001b[1;31m# Remove the TypeError from the exception chain in\u001b[0m\u001b[1;33m\u001b[0m\u001b[1;33m\u001b[0m\u001b[1;33m\u001b[0m\u001b[0m\n",
      "\u001b[1;32mD:\\Anaconda\\lib\\http\\client.py\u001b[0m in \u001b[0;36mgetresponse\u001b[1;34m(self)\u001b[0m\n\u001b[0;32m   1342\u001b[0m         \u001b[1;32mtry\u001b[0m\u001b[1;33m:\u001b[0m\u001b[1;33m\u001b[0m\u001b[1;33m\u001b[0m\u001b[0m\n\u001b[0;32m   1343\u001b[0m             \u001b[1;32mtry\u001b[0m\u001b[1;33m:\u001b[0m\u001b[1;33m\u001b[0m\u001b[1;33m\u001b[0m\u001b[0m\n\u001b[1;32m-> 1344\u001b[1;33m                 \u001b[0mresponse\u001b[0m\u001b[1;33m.\u001b[0m\u001b[0mbegin\u001b[0m\u001b[1;33m(\u001b[0m\u001b[1;33m)\u001b[0m\u001b[1;33m\u001b[0m\u001b[1;33m\u001b[0m\u001b[0m\n\u001b[0m\u001b[0;32m   1345\u001b[0m             \u001b[1;32mexcept\u001b[0m \u001b[0mConnectionError\u001b[0m\u001b[1;33m:\u001b[0m\u001b[1;33m\u001b[0m\u001b[1;33m\u001b[0m\u001b[0m\n\u001b[0;32m   1346\u001b[0m                 \u001b[0mself\u001b[0m\u001b[1;33m.\u001b[0m\u001b[0mclose\u001b[0m\u001b[1;33m(\u001b[0m\u001b[1;33m)\u001b[0m\u001b[1;33m\u001b[0m\u001b[1;33m\u001b[0m\u001b[0m\n",
      "\u001b[1;32mD:\\Anaconda\\lib\\http\\client.py\u001b[0m in \u001b[0;36mbegin\u001b[1;34m(self)\u001b[0m\n\u001b[0;32m    304\u001b[0m         \u001b[1;31m# read until we get a non-100 response\u001b[0m\u001b[1;33m\u001b[0m\u001b[1;33m\u001b[0m\u001b[1;33m\u001b[0m\u001b[0m\n\u001b[0;32m    305\u001b[0m         \u001b[1;32mwhile\u001b[0m \u001b[1;32mTrue\u001b[0m\u001b[1;33m:\u001b[0m\u001b[1;33m\u001b[0m\u001b[1;33m\u001b[0m\u001b[0m\n\u001b[1;32m--> 306\u001b[1;33m             \u001b[0mversion\u001b[0m\u001b[1;33m,\u001b[0m \u001b[0mstatus\u001b[0m\u001b[1;33m,\u001b[0m \u001b[0mreason\u001b[0m \u001b[1;33m=\u001b[0m \u001b[0mself\u001b[0m\u001b[1;33m.\u001b[0m\u001b[0m_read_status\u001b[0m\u001b[1;33m(\u001b[0m\u001b[1;33m)\u001b[0m\u001b[1;33m\u001b[0m\u001b[1;33m\u001b[0m\u001b[0m\n\u001b[0m\u001b[0;32m    307\u001b[0m             \u001b[1;32mif\u001b[0m \u001b[0mstatus\u001b[0m \u001b[1;33m!=\u001b[0m \u001b[0mCONTINUE\u001b[0m\u001b[1;33m:\u001b[0m\u001b[1;33m\u001b[0m\u001b[1;33m\u001b[0m\u001b[0m\n\u001b[0;32m    308\u001b[0m                 \u001b[1;32mbreak\u001b[0m\u001b[1;33m\u001b[0m\u001b[1;33m\u001b[0m\u001b[0m\n",
      "\u001b[1;32mD:\\Anaconda\\lib\\http\\client.py\u001b[0m in \u001b[0;36m_read_status\u001b[1;34m(self)\u001b[0m\n\u001b[0;32m    265\u001b[0m \u001b[1;33m\u001b[0m\u001b[0m\n\u001b[0;32m    266\u001b[0m     \u001b[1;32mdef\u001b[0m \u001b[0m_read_status\u001b[0m\u001b[1;33m(\u001b[0m\u001b[0mself\u001b[0m\u001b[1;33m)\u001b[0m\u001b[1;33m:\u001b[0m\u001b[1;33m\u001b[0m\u001b[1;33m\u001b[0m\u001b[0m\n\u001b[1;32m--> 267\u001b[1;33m         \u001b[0mline\u001b[0m \u001b[1;33m=\u001b[0m \u001b[0mstr\u001b[0m\u001b[1;33m(\u001b[0m\u001b[0mself\u001b[0m\u001b[1;33m.\u001b[0m\u001b[0mfp\u001b[0m\u001b[1;33m.\u001b[0m\u001b[0mreadline\u001b[0m\u001b[1;33m(\u001b[0m\u001b[0m_MAXLINE\u001b[0m \u001b[1;33m+\u001b[0m \u001b[1;36m1\u001b[0m\u001b[1;33m)\u001b[0m\u001b[1;33m,\u001b[0m \u001b[1;34m\"iso-8859-1\"\u001b[0m\u001b[1;33m)\u001b[0m\u001b[1;33m\u001b[0m\u001b[1;33m\u001b[0m\u001b[0m\n\u001b[0m\u001b[0;32m    268\u001b[0m         \u001b[1;32mif\u001b[0m \u001b[0mlen\u001b[0m\u001b[1;33m(\u001b[0m\u001b[0mline\u001b[0m\u001b[1;33m)\u001b[0m \u001b[1;33m>\u001b[0m \u001b[0m_MAXLINE\u001b[0m\u001b[1;33m:\u001b[0m\u001b[1;33m\u001b[0m\u001b[1;33m\u001b[0m\u001b[0m\n\u001b[0;32m    269\u001b[0m             \u001b[1;32mraise\u001b[0m \u001b[0mLineTooLong\u001b[0m\u001b[1;33m(\u001b[0m\u001b[1;34m\"status line\"\u001b[0m\u001b[1;33m)\u001b[0m\u001b[1;33m\u001b[0m\u001b[1;33m\u001b[0m\u001b[0m\n",
      "\u001b[1;32mD:\\Anaconda\\lib\\socket.py\u001b[0m in \u001b[0;36mreadinto\u001b[1;34m(self, b)\u001b[0m\n\u001b[0;32m    587\u001b[0m         \u001b[1;32mwhile\u001b[0m \u001b[1;32mTrue\u001b[0m\u001b[1;33m:\u001b[0m\u001b[1;33m\u001b[0m\u001b[1;33m\u001b[0m\u001b[0m\n\u001b[0;32m    588\u001b[0m             \u001b[1;32mtry\u001b[0m\u001b[1;33m:\u001b[0m\u001b[1;33m\u001b[0m\u001b[1;33m\u001b[0m\u001b[0m\n\u001b[1;32m--> 589\u001b[1;33m                 \u001b[1;32mreturn\u001b[0m \u001b[0mself\u001b[0m\u001b[1;33m.\u001b[0m\u001b[0m_sock\u001b[0m\u001b[1;33m.\u001b[0m\u001b[0mrecv_into\u001b[0m\u001b[1;33m(\u001b[0m\u001b[0mb\u001b[0m\u001b[1;33m)\u001b[0m\u001b[1;33m\u001b[0m\u001b[1;33m\u001b[0m\u001b[0m\n\u001b[0m\u001b[0;32m    590\u001b[0m             \u001b[1;32mexcept\u001b[0m \u001b[0mtimeout\u001b[0m\u001b[1;33m:\u001b[0m\u001b[1;33m\u001b[0m\u001b[1;33m\u001b[0m\u001b[0m\n\u001b[0;32m    591\u001b[0m                 \u001b[0mself\u001b[0m\u001b[1;33m.\u001b[0m\u001b[0m_timeout_occurred\u001b[0m \u001b[1;33m=\u001b[0m \u001b[1;32mTrue\u001b[0m\u001b[1;33m\u001b[0m\u001b[1;33m\u001b[0m\u001b[0m\n",
      "\u001b[1;31mKeyboardInterrupt\u001b[0m: "
     ]
    }
   ],
   "source": [
    "Username=input('Pls enter your username for login: ')\n",
    "Password=input('Pls enter your password for login: ')\n",
    "login(Username,Password)"
   ]
  },
  {
   "cell_type": "code",
   "execution_count": 49,
   "metadata": {},
   "outputs": [
    {
     "data": {
      "text/plain": [
       "['foodnetwork', 'buzzfeedfood', 'foodinsider', 'dilsefoodie', 'foodtalkindia']"
      ]
     },
     "execution_count": 49,
     "metadata": {},
     "output_type": "execute_result"
    }
   ],
   "source": [
    "#Open the first 10 handles and find the top 5 which have the highest number of followers\n",
    "top_5=highest()\n",
    "top_5"
   ]
  },
  {
   "cell_type": "code",
   "execution_count": 51,
   "metadata": {},
   "outputs": [
    {
     "name": "stdout",
     "output_type": "stream",
     "text": [
      "foodnetwork 0\n",
      "buzzfeedfood 0\n",
      "foodinsider 4\n",
      "dilsefoodie 4\n",
      "foodtalkindia 6\n"
     ]
    }
   ],
   "source": [
    "#number of posts handles have done in past 3 days\n",
    "d={}\n",
    "for i in top_5:\n",
    "    count=num_of_posts_past3_days(i)\n",
    "    print(i,count)\n",
    "    d[i]=count"
   ]
  },
  {
   "cell_type": "code",
   "execution_count": 52,
   "metadata": {},
   "outputs": [
    {
     "data": {
      "image/png": "[encoded data removed]",
      "text/plain": [
       "<Figure size 432x288 with 1 Axes>"
      ]
     },
     "metadata": {
      "needs_background": "light"
     },
     "output_type": "display_data"
    }
   ],
   "source": [
    "#graph to depict the info\n",
    "import matplotlib.pyplot  as plt\n",
    "count=list(d.values())\n",
    "name=(d.keys())\n",
    "plt.bar(name,count)\n",
    "plt.xticks(rotation=90)\n",
    "plt.show()"
   ]
  },
  {
   "cell_type": "code",
   "execution_count": 53,
   "metadata": {},
   "outputs": [],
   "source": [
    "##Open the 5 handles you obtained in the last question, and scrape the content of the first 10 posts of each handle.\n",
    "l=[]\n",
    "top_5=['foodnetwork', 'buzzfeedfood', 'foodinsider', 'dilsefoodie', 'foodtalkindia']\n",
    "for i in top_5:\n",
    "    l.append(scrape_content(i))\n"
   ]
  },
  {
   "cell_type": "code",
   "execution_count": 54,
   "metadata": {},
   "outputs": [
    {
     "data": {
      "text/plain": [
       "[[\"Southern Bubble and Squeak\\n\\n@GuyFieri couldn't get enough of the pot likker gravy on this southern version of eggs Benedict at @auntmaryscafe! 🤗\\n\\nSettle in for a #DDD marathon beginning at 2|1c.\",\n",
       "  \"Fire up the grill for a round of @BobbyFlay's best Turkey Burgers! 🔥🔥\\n. . .\\nA new grilling episode of #BeatBobbyFlay is coming up tonight @ 10|9c!\\n. . .\\nSave the recipe on the @FoodNetworkKitchen app.\",\n",
       "  \"Class of the Day: Chimichurri Skirt Steak with Grilled Shishitos 🥩 Weekends are made for grilling! An herby chimichurri sauce punches up skirt steak, complemented by grilled shishito peppers in @jamesbriscione's class. Take it today on the @FoodNetworkKitchen app! #WeCook\",\n",
       "  'Chocolate Chip Cookies (with @thepioneerwoman) 🍪\\n\\nThere are lots of chocolate chip recipes out there, but trust when we say these are the ones you NEED. #WeCook\\nCatch @ThePioneerWoman, Saturdays at 10a|9c.\\nSave the recipe on your @FoodNetworkKitchen app.',\n",
       "  \"New challenge: Make @wolfiemom's Peanut Butter Brownies with Salted Pretzels and try not to eat the whole pan. It'll be hard, since the fudgy chocolate, creamy peanut butter and salty crunchy pretzels are just about the best combo in the world 🤤Take the class today on the @FoodNetworkKitchen app! #WeCook\",\n",
       "  'Favorite Food Memories (with the #WorstCooks Celebrities)\\n\\nWe took a trip down memory lane with the #WorstCooks celebrities to find out their very first memory of being in the kitchen! (Plus, some of their absolute favorite dishes!) An all-new #WorstCooks Celebrity Edition is on tomorrow at 9|8c.',\n",
       "  \"@ChefAnneBurrell's infamous red marker makes a triumphant return to Boot Camp! 🔴\\n\\nDon't miss an all-new #WorstCooks Celebrity Edition > Sunday at 9|8c\",\n",
       "  \"Ree's Sunshine Pasta Salad ☀️☀️\\n\\nThis top-rated recipe is tossed with colorful veggies and a creamy lemon dressing! 👌\\n\\nCatch a new episode of @ThePioneerWoman, today @ 10a|9c!\\n\\nSave the recipe on the @FoodNetworkKitchen app.\",\n",
       "  \"Homemade Sloppy Joes, Hold the Meat! 💯(via @KatieLeeKitchen)\\n\\n@KatieLeeKitchen skips the usual ground beef and uses hearty lentils to form the base of her homemade Sloppy Joes! They taste just like that ol' childhood favorite 😋😋 Watch the latest episode of #WhatWouldKatieEat: Home Edition, featuring cameos from Katie's husband, Ryan, and their adorable dog, Gus!\\n\\nSave the recipe on the @FoodNetworkKitchen app.\",\n",
       "  \"Recipe of the Day: @JetTila's Bacon and Egg Potato Salad 🥓Save the recipe on your @foodnetworkkitchen app today!\"],\n",
       " ['This place in Seattle serves tide-to-table shellfish! 😱Follow 👉@bringme for more foodie spots around the world!',\n",
       "  'Are you ready to get bougie on a budget? You can get a Michelin star meal in Paris! 🇫🇷Follow 👉@bringme for more foodie adventures!',\n",
       "  \"Why aren't you following @bringme yet?! 🍜Follow @bringme for more foodie adventures! 🌍✈️\",\n",
       "  'Brazil makes the cheesiest chili cheeseburgers! 😋🍔Follow @bringme for more!',\n",
       "  \"Move over Italy, Vancouver might have the world's best gelato! 🍨What's your favorite gelato flavor? Follow 👉@bringme for more mouthwatering adventures around the globe! 🌎\",\n",
       "  'Sushi + sustainability = my dream come true! 🍣Follow @bringme for more foodie adventures around the world! ✈️\\n.\\n.\\n.\\n.\\n.\\n#bringme #portlandtravel #sushirestuarant #sushi #oregontravel #sustainability',\n",
       "  \"These are cheesecake tea cups and I'll take one of EVERYTHING. 😍🍰Follow @bringme for more foodie adventures! ✈️\",\n",
       "  'This place serves pickle and beer flights with a southern twist! 🍻Follow @bringme for more foodie adventures all around the globe! ✈️',\n",
       "  'Cozy up at this hot chocolate café! They have over 50 different kinds! ☕️🍫Follow @bringme for more foodie adventures around the world! ✈️',\n",
       "  'Thanks for this dairy-free blueberry lime “cheesecake” recipe @goodful 😍🤤'],\n",
       " ['Incorrectly mixing your ingredients can prevent you from achieving bakery-style results. Click the link in bio for eight mistakes you could be making when baking brownies.\\u2063\\n\\u2063\\u2063\\n\\u2063#brownies #foodies #baking #diy \\u2063\\n\\u2063\\u2063\\n\\u2063(Credit: iStock)',\n",
       "  \"Chicago's most legendary cheeseburger | Legendary Eats\\n\\nBilly Goat Tavern, established in 1934, is a burger institution in Chicago, known for its double cheeseburger made with thin, all-natural beef patties served on a kaiser-roll bun. Insider visited Billy Goat Tavern in February 2020. You can still order Cheezborgers and more for pick-up, or you can order online. For more information, visit: www.billygoattavern.com/\\n\\n#cheeseburger #burger #cheezeborger #food #FoodInsider\",\n",
       "  \"LA's spiciest chicken is too hot for any menu\\n\\nHowlin' Ray's is doing delivery for the first time ever right now.\\n\\nHowlin' Ray's in Los Angeles is known for its incredibly hot fried chicken, but it has an even spicier offering: the Howlin' Plus. It's on the secret menu, and it'll blow your top off. We're heading to the restaurant in Chinatown to see if we can handle this extra level of spice.\\n\\n#chicken #LA #losangeles #friedchicken #FoodInsider\",\n",
       "  \"Recreating New York's best pancakes with Clinton St. Baking Company\\n\\n@clintonstbakingco is famous for its pancakes, and used to attract long lines for brunch every weekend. Chef Neil Kleinberg teaches Insider’s @rinnny_ how to make the restaurant’s famous wild Maine blueberry pancakes with maple butter.\\n\\n#pancakes #breakfast #nyc #nycfoodies #FoodInsider\",\n",
       "  'Having trouble getting your chocolate-chip cookies to look and taste just right? Check out the link in bio to see how overmixing or using too much of an ingredient can drastically affect the end result.\\u2063\\n\\u2063\\u2063\\n\\u2063#chocolatechipcookies #cookies #bakingfromscratch #dessert\\u2063\\n\\u2063\\u2063\\n\\u2063(Credit: @raskinasi/ Insider)',\n",
       "  'The best cheeseburger in LA sells out every weekend | Line Around the Block\\n\\nGoldburger opened a new pop-up location in highland park after closing early due to COVID-19. The new address is 5623 York Blvd, Los Angeles, CA 90042 with takeout Thursday-Sunday 12pm-9pm.\\n\\nGoldburger started as a burger pop-up in a backyard, but it recently won LA Food and Wine’s best burger for 2019. They smash onions into a crispy patty and load it up on a soft white bun dripping with American cheese.\\n#cheeseburger #LA #losangeles #food #FoodInsider',\n",
       "  \"Katz's makes New York's most legendary pastrami on rye | Legendary Eats\\n\\n@katzsdeli is one of New York City's longest-treasured destinations. The 132-year-old deli is famous for pastrami on rye, a plate that requires about a month's attention.\\n\\nFeaturing @tarynvee\\n#deli #katzsdeli #katzs #pastrami #pastramionrye #nyc #nyeats #legendaryeats\",\n",
       "  'We tried Pollo Tropical — the Chick-Fil-A of Florida\\n\\nSenior video correspondent Graham Flanagan tried Florida-based fast food chain Pollo Tropical, which specializes in citrus-marinated grilled chicken.\\n\\n#chicken #PolloTropical #food #Florida #FoodInsider',\n",
       "  'These delectable-looking dishes are actually soap! Link in bio to read how this soap maker creates molds that leave customers looking twice. #foodart #soapmaker #soapdesign\\u2063\\n\\u2063\\u2063\\n\\u2063(Credit: @fakecake_soap/ Instagram)',\n",
       "  \"Why Lou Malnati's is Chicago's favorite deep dish pizza | Legendary Eats\\n\\nIn Chicago, @loumalnatis is the top choice for the city's iconic deep-dish pizza. @tarynvee caught up with Chicago's favorite deep dish spot and the customers who love it to see what makes Lou Malanti's a standout in the region.\\n\\n#pizza #Chicago #LouMalnatis #chicagopizza #food #FoodInsider\"],\n",
       " ['Bamboo Biryani At Jungle View Restaurant, Odisha\\n\\n#dilsefoodie #bamboo #biryani #odisha',\n",
       "  'VIRTUAL IFTAAR E MEHFIL !!\\n\\nZindagi ki thi tez raftaar\\nJaate the doston ke ghar for Iftaar\\nAaj karenge hum iftaar virtual\\nPehle wali Eid manayenge Aaj nahi to Kal !\\n\\nDo you miss going to your friends and family ‘s homes for Iftaari!? Well have a Virtual Iftaar Mehfil like we did !\\nUnited in Food and Festival ! Covid 19 has us locked down in our homes but cannot take away the spirit of celebration of festivals !!\\nWill you join us all in our Virtual Iftaar E Mehfil !?\\nIn video are\\n@dilsefoodie\\n@luckyladyblossom\\n@he_cook_she_eat\\n@geetasfoodielife\\n@chatpati_shikha\\n@chefrehman\\n@foodconnectindia\\n@foodjournal_mumbai\\n@mistertikku\\n.\\nConcept by @luckyladyblossom\\nVideo editing and caption by @geetasfoodielife\\n\\n#dilsefoodie #virtualiftaar',\n",
       "  'Kala Khatta, Orange And Lemon Soda In Just Rs 15\\n\\n#dilsefoodie #nagpur',\n",
       "  'Champaran Style Mutton Curry\\n\\nTag Mutton Lovers\\n#dilsefoodie #muttoncurry',\n",
       "  'Desi Chowmin At Home\\n\\nAnyone Where Who Crave For Chinese Van Food ?\\n#dilsefoodie',\n",
       "  'Mughlai Paneer Recipe\\n\\nFirst Time Tried This Mughlai Food\\n#dilsefoodie #mughlaifood',\n",
       "  'Simple Punjabi Dal Tadka\\n\\nAnyone Here Who Love Simple Dal Tadka ?\\n#dilsefoodie #daltadka',\n",
       "  'Easiest Way For Paneer Pyaaz Parantha\\n\\nTag Someone Who Would Love To Try This.\\n#dilsefoodie',\n",
       "  'Mango Badam Kheer\\n\\nKuch Meetha Ho Jaye 😜\\nKoi Mango Ka Deewana Hai Kya ?\\n#dilsefoodie #mangoweek',\n",
       "  'Finally Butter Chicken Recipe\\n\\nThe Easiest Recipe Of Butter Chicken\\n#dilsefoodie #butterchicken'],\n",
       " ['Mango Basil Marini by @mr.bartrender\\n\\nThe perfect drink for this season! 🥭🍹 Recipe:\\nVodka 30-60 ml (depend upon your preference you can also add Gin 😜) Mango juice 90 ml / fresh mango puree 60 ml + 30 ml water\\nBasil leaves 2-3 leaves \\nLemon juice 10 ml\\nIce \\nGlass: Cocktail glass\\nGarnish : basil leaf and mango slice\\nMethod : shaken',\n",
       "  '#QuarantineFoodDelivery #OrderSafely\\n\\nDon’t let COVID keep you from indulging in your favourite restaurant meals.\\nFollow our safety tips to reduce any risk and enjoy enjoy your food.\\n\\nThere is currently no evidence that COVID-19 can be transmitted through food or food packaging*\\n\\nAs cooking kills the virus, the biggest concern in ordering food is the handling of the food after its cooked.\\n\\nEnsure you discard outside packaging, sanitise any surface which comes in touch with such and wash your hands thoroughly!',\n",
       "  'Weekend vibes kicking in! 🍸',\n",
       "  'Yalla habibi _ zaatar marinated chicken with a beetroot pickle, hummus and garlic aoili, Texas massacre burger - BBQ style slow cooked pulled pork with hot sauce, Tuscan sunrise pizza - smoked chicken with arugula🤤😍 .\\n.\\n.\\n.\\n@bigfatsandwichindia is now delivering all your Big Fat Favourites from their Galleria outlet!! .\\n.\\nOrder in via zomato/swiggy',\n",
       "  'The city’s beloved Big Chill is opening its doors today and are in the process of finalising home deliveries in the near future!!\\n.\\n.\\nYep, you read it right!',\n",
       "  \"Traditional Burmese KhowSuey\\n\\nIn the kitchen with @anjali__batra\\nTraditional Burmese KhowSuey - a recipe that's been passed down from Anjali’s grandmother who was born and brought up in Burma { every family has their own version of this recipe} \\nKhow Suey serves 6\\nCoconut Milk { or use 2 cans of store bought coconut milk}\\nBreak a fresh coconut and cut into small pieces\\nAdd 1.5 cups of water and blitz in a grinder\\nPour flesh into a serve on a pot and strain\\nRepeat this 3 times. Using about 1 cup of water in each following blitz\\nChicken Broth { if you want to make a vegetarian broth just replace with mushrooms and Broccoli}\\n1 chicken { washed and cleaned }\\n2 cups water\\n1 teaspoon salt\\n2 teaspoons ginger garlic paste\\nPut all together in a pressure cooker high flame till one whistle. Reduce the flame and leave on for 5 mins.\\nStrain out the chicken and leave the broth.\\nSOUP BASE\\n1.5 cup besan \\nRoast it in a non stick pan till it's a nice golden brown { 20-25 mins}\\nOnce roasted.\\nPut the besan in a blender with 1.5cups of water and blitz \\nLeave it aside.\\nASSEMBLY\\nTake a big pot.\\nAdd 1 tablespoon oil\\nHeat oil and add 1.5 teaspoon of ginger garlic paste.\\nAdd the chicken broth\\nAdd coconut milk\\nAdd the besan broth\\nAdd the shredded chicken \\nBring it all to a boil\\nAdd salt to taste.\\nIts Ready! Serve with steamed noodles and add ons\\n1. Lemon juice\\n2. Salt\\n3. Chilli paste.\\n4. Fresh onions\\n5. Boild egg\\n6. Fried onions\\n7. Fried garlic\\n8. Roasted peanuts\",\n",
       "  '#KitchenHacks #KeepCookiesFresh 🍪\\n.\\nTo prevent cookies from getting stale, eat them the day they are baked. Just kidding :)\\n.\\nTo keep them as fresh as the day they were baked, store in an air-tight container and add a slice of store-bought white bread. 🍞\\n.\\nThe extra moisture from the bread slows down the moisture loss from the baked items. Keeping your cookies soft and chewy!\\n.\\n📸: The Kitchn',\n",
       "  'Indian Mexican Leftover Rajma Enchiladas\\n\\nIn the Kitchen with Messy Mama ( @reddysameera ) and Sassy Saasu (@manjrivarde )\\nHow to make leftover Rajma exciting? They turn it into Yummy Easy Mexican wraps with few ingredients from your fridge! 💃All you need is .\\nChopped Green Capsicum .\\nBoiled corn .\\nCrumbled Paneer .\\nShredded Cheese or slices .\\nCooked Rajma (however you like it).\\nHomemade Tortilla.\\nHomemade tomato base sauce .\\n. 💃Homemade Tortilla -\\n1/2 cup maida\\n1/2 cup whole wheat aata\\n2 tbsp oil\\nsalt , water .\\n.\\n💃Mix all ingredients to make a soft dough and let it rest for 20 minutes . Roll out into large rotis . And cook on both sides on medium gas.\\n.\\n💃Homemade Tomato Base Sauce - ( can be used for pizza /pasta also) .\\n6 tomatoes\\n1 Finely chopped onion\\n2 tbsp olive oil\\n2 cloves garlic chopped\\n1/2 tsp black pepper powder\\n1/2 tsp sugar\\nSalt to taste\\n1 tsp italian seasoning .\\n.\\n- blanch the tomatoes ( blanching is putting the tomatoes in boiling water till the skin splits) then peel , cool and purée. - Put the oil in a pan, add the garlic and onion . Cook till translucent. - Add the tomato purée , salt, sugar , pepper and seasoning. - Cook on medium gas till sauce thickens . Set aside to cool . .\\n💃Make the wraps with spooning the rajma, corn ,capsicum and crumbled paneer into the Tortilla Roti: Fold and place into a baking dish as shown in the video . 💃Generously spoon the tomato base sauce and sprinkle with lots of cheese . I used slices because thanks to lockdown i only had that! .\\n💃Bake for 15 -20 min or until the cheese is bubbly . Drizzle some olive oil and serve!\\n.\\n💃You can also team this with our easy Mexican salsa ( from our previous video ).\\n.\\n💃Have fun cooking! It’s really about staying happy and enjoying yourself !',\n",
       "  'Pindi Chola Bhatura\\n\\nIn the Kitchen with @chefsagarbajaj\\nBhatura dough\\n8cups maida\\n1 cup curd or dhai\\n1 tsp cumin\\n1tsp salt\\n1 tsp sugar\\n1 tsp baking powder\\n1/4 cup vegetable oil\\n8 tbsp samolina\\n4 cup of water\\nAdd all the dry ingredients in large 🍲 bowl and mix it evenly make a well add water and start the dough\\nOnce’s it nicely incorporated knead it a little and rest it for good 2-3 hours\\nSagar style Pindi Chola\\n250 soaked kabuli channa over night\\nGarlic 2-3 cloves\\nBay leaf -1\\nGinger - 1 inch\\nClove -2 piece\\nBlack tea bags\\nSalt -1 tsp\\nCook them in pressure cooker for 6-8 vessels\\nMasala for pundi chole\\n2 tblsp of ghee\\n4 medium onion sliced\\n4-6 garlic cloves\\n2 green chilli\\n2 tsp garlic\\n2 tsp roasted cumin\\n3 medium tomato 🍅 diced\\n6 roasted madras onions or shallots\\n5 tsp chole masala\\n1 tsp black pepper\\nFor garnish\\nCoriander\\nChopped tomatoes\\nGinger julienned\\nAdd ingredients to pressure cooker and boil channa till tender\\nTake pan\\nAdd ghee , add onions and fry it off for 5 mins then add garlic and rest of the ingredients one by one and let the masala cook for a while\\nAdd boiled channa and add some water cook it for 10-15 mins and start mashing them a little and simmer it for 5 mins and then serve it hot with Bhatura and garnish it with coriander tomato and ginger',\n",
       "  \"In good times and in bad, there's always comfort in feeding one another 🙏🏼 Silly souls cafe has started a new service to help feed sanitation workers called Dhanyavaad Seva. They are bringing clean healthy food to people who are working hard in this scorching heat. Their target is to give 200 meals daily to expectant mothers, lactating mothers, and elderly in sanitation worker family in Delhi NCR.\\nAll necessary precautions to maintain hygiene are being taken at their restaurant.\\nThe first batch of 200 meals went out today to families in #BIWCamp #Badarpur, #Gautampuri, Subhash Camp, #Tughlakabadvillage, #shaktivihar.\\nEach meal consists of 200g rice, 150g dal, 150g sabzi, 3 chapattis, salad/raita, packed neatly in a recyclable plastic box.\\n\\nThe efforts for Dhanyavaad Seva is completely supported by donations. Each meal box costs Rs.100. If you would like to donate, please DM @sillysoulscafe Feed the fearless!\"]]"
      ]
     },
     "execution_count": 54,
     "metadata": {},
     "output_type": "execute_result"
    }
   ],
   "source": [
    "l"
   ]
  },
  {
   "cell_type": "code",
   "execution_count": 61,
   "metadata": {},
   "outputs": [
    {
     "name": "stdout",
     "output_type": "stream",
     "text": [
      "['Southern', 'Bubble', 'and', 'Squeak', '@GuyFieri', \"couldn't\", 'get', 'enough', 'of', 'the', 'pot', 'likker', 'gravy', 'on', 'this', 'southern', 'version', 'eggs', 'Benedict', 'at', '@auntmaryscafe!', '🤗', 'Settle', 'in', 'for', 'a', '#DDD', 'marathon', 'beginning', '2|1c.', 'Fire', 'up', 'grill', 'round', \"@BobbyFlay's\", 'best', 'Turkey', 'Burgers!', '🔥🔥', '.', 'A', 'new', 'grilling', 'episode', '#BeatBobbyFlay', 'is', 'coming', 'tonight', '@', '10|9c!', 'Save', 'recipe', '@FoodNetworkKitchen', 'app.', 'Class', 'Day:', 'Chimichurri', 'Skirt', 'Steak', 'with', 'Grilled', 'Shishitos', '🥩', 'Weekends', 'are', 'made', 'grilling!', 'An', 'herby', 'chimichurri', 'sauce', 'punches', 'skirt', 'steak,', 'complemented', 'by', 'grilled', 'shishito', 'peppers', \"@jamesbriscione's\", 'class.', 'Take', 'it', 'today', 'app!', '#WeCook', 'Chocolate', 'Chip', 'Cookies', '(with', '@thepioneerwoman)', '🍪', 'There', 'lots', 'chocolate', 'chip', 'recipes', 'out', 'there,', 'but', 'trust', 'when', 'we', 'say', 'these', 'ones', 'you', 'NEED.', 'Catch', '@ThePioneerWoman,', 'Saturdays', '10a|9c.', 'your', 'New', 'challenge:', 'Make', \"@wolfiemom's\", 'Peanut', 'Butter', 'Brownies', 'Salted', 'Pretzels', 'try', 'not', 'to', 'eat', 'whole', 'pan.', \"It'll\", 'be', 'hard,', 'since', 'fudgy', 'chocolate,', 'creamy', 'peanut', 'butter', 'salty', 'crunchy', 'pretzels', 'just', 'about', 'combo', 'world', '🤤Take', 'class', 'Favorite', 'Food', 'Memories', '#WorstCooks', 'Celebrities)', 'We', 'took', 'trip', 'down', 'memory', 'lane', 'celebrities', 'find', 'their', 'very', 'first', 'being', 'kitchen!', '(Plus,', 'some', 'absolute', 'favorite', 'dishes!)', 'all-new', 'Celebrity', 'Edition', 'tomorrow', '9|8c.', \"@ChefAnneBurrell's\", 'infamous', 'red', 'marker', 'makes', 'triumphant', 'return', 'Boot', 'Camp!', '🔴', \"Don't\", 'miss', 'an', '>', 'Sunday', '9|8c', \"Ree's\", 'Sunshine', 'Pasta', 'Salad', '☀️☀️', 'This', 'top-rated', 'tossed', 'colorful', 'veggies', 'lemon', 'dressing!', '👌', '10a|9c!', 'Homemade', 'Sloppy', 'Joes,', 'Hold', 'Meat!', '💯(via', '@KatieLeeKitchen)', '@KatieLeeKitchen', 'skips', 'usual', 'ground', 'beef', 'uses', 'hearty', 'lentils', 'form', 'base', 'her', 'homemade', 'Joes!', 'They', 'taste', 'like', 'that', \"ol'\", 'childhood', '😋😋', 'Watch', 'latest', '#WhatWouldKatieEat:', 'Home', 'Edition,', 'featuring', 'cameos', 'from', \"Katie's\", 'husband,', 'Ryan,', 'adorable', 'dog,', 'Gus!', 'Recipe', \"@JetTila's\", 'Bacon', 'Egg', 'Potato', '🥓Save', '@foodnetworkkitchen', 'app', 'today!', 'place', 'Seattle', 'serves', 'tide-to-table', 'shellfish!', '😱Follow', '👉@bringme', 'more', 'foodie', 'spots', 'around', 'world!', 'Are', 'ready', 'bougie', 'budget?', 'You', 'can', 'Michelin', 'star', 'meal', 'Paris!', '🇫🇷Follow', 'adventures!', 'Why', \"aren't\", 'following', '@bringme', 'yet?!', '🍜Follow', '🌍✈️', 'Brazil', 'cheesiest', 'chili', 'cheeseburgers!', '😋🍔Follow', 'more!', 'Move', 'over', 'Italy,', 'Vancouver', 'might', 'have', \"world's\", 'gelato!', \"🍨What's\", 'gelato', 'flavor?', 'Follow', 'mouthwatering', 'adventures', 'globe!', '🌎', 'Sushi', '+', 'sustainability', '=', 'my', 'dream', 'come', 'true!', '🍣Follow', '✈️', '#bringme', '#portlandtravel', '#sushirestuarant', '#sushi', '#oregontravel', '#sustainability', 'These', 'cheesecake', 'tea', 'cups', \"I'll\", 'take', 'one', 'EVERYTHING.', '😍🍰Follow', 'pickle', 'beer', 'flights', 'twist!', '🍻Follow', 'all', 'Cozy', 'hot', 'café!', '50', 'different', 'kinds!', '☕️🍫Follow', 'Thanks', 'dairy-free', 'blueberry', 'lime', '“cheesecake”', '@goodful', '😍🤤', 'Incorrectly', 'mixing', 'ingredients', 'prevent', 'achieving', 'bakery-style', 'results.', 'Click', 'link', 'bio', 'eight', 'mistakes', 'could', 'making', 'baking', 'brownies.\\u2063', '\\u2063\\u2063', '\\u2063#brownies', '#foodies', '#baking', '#diy', '\\u2063', '\\u2063(Credit:', 'iStock)', \"Chicago's\", 'most', 'legendary', 'cheeseburger', '|', 'Legendary', 'Eats', 'Billy', 'Goat', 'Tavern,', 'established', '1934,', 'burger', 'institution', 'Chicago,', 'known', 'its', 'double', 'thin,', 'all-natural', 'patties', 'served', 'kaiser-roll', 'bun.', 'Insider', 'visited', 'Tavern', 'February', '2020.', 'still', 'order', 'Cheezborgers', 'pick-up,', 'or', 'online.', 'For', 'information,', 'visit:', 'www.billygoattavern.com/', '#cheeseburger', '#burger', '#cheezeborger', '#food', '#FoodInsider', \"LA's\", 'spiciest', 'chicken', 'too', 'any', 'menu', \"Howlin'\", \"Ray's\", 'doing', 'delivery', 'time', 'ever', 'right', 'now.', 'Los', 'Angeles', 'incredibly', 'fried', 'chicken,', 'has', 'even', 'spicier', 'offering:', 'Plus.', \"It's\", 'secret', 'menu,', \"it'll\", 'blow', 'top', 'off.', \"We're\", 'heading', 'restaurant', 'Chinatown', 'see', 'if', 'handle', 'extra', 'level', 'spice.', '#chicken', '#LA', '#losangeles', '#friedchicken', 'Recreating', \"York's\", 'pancakes', 'Clinton', 'St.', 'Baking', 'Company', '@clintonstbakingco', 'famous', 'pancakes,', 'used', 'attract', 'long', 'lines', 'brunch', 'every', 'weekend.', 'Chef', 'Neil', 'Kleinberg', 'teaches', 'Insider’s', '@rinnny_', 'how', 'make', 'restaurant’s', 'wild', 'Maine', 'maple', 'butter.', '#pancakes', '#breakfast', '#nyc', '#nycfoodies', 'Having', 'trouble', 'getting', 'chocolate-chip', 'cookies', 'look', 'right?', 'Check', 'overmixing', 'using', 'much', 'ingredient', 'drastically', 'affect', 'end', 'result.\\u2063', '\\u2063#chocolatechipcookies', '#cookies', '#bakingfromscratch', '#dessert\\u2063', '@raskinasi/', 'Insider)', 'The', 'LA', 'sells', 'weekend', 'Line', 'Around', 'Block', 'Goldburger', 'opened', 'pop-up', 'location', 'highland', 'park', 'after', 'closing', 'early', 'due', 'COVID-19.', 'address', '5623', 'York', 'Blvd,', 'Angeles,', 'CA', '90042', 'takeout', 'Thursday-Sunday', '12pm-9pm.', 'started', 'as', 'backyard,', 'recently', 'won', 'Wine’s', '2019.', 'smash', 'onions', 'into', 'crispy', 'patty', 'load', 'soft', 'white', 'bun', 'dripping', 'American', 'cheese.', \"Katz's\", 'pastrami', 'rye', '@katzsdeli', \"City's\", 'longest-treasured', 'destinations.', '132-year-old', 'deli', 'rye,', 'plate', 'requires', \"month's\", 'attention.', 'Featuring', '@tarynvee', '#deli', '#katzsdeli', '#katzs', '#pastrami', '#pastramionrye', '#nyeats', '#legendaryeats', 'tried', 'Pollo', 'Tropical', '—', 'Chick-Fil-A', 'Florida', 'Senior', 'video', 'correspondent', 'Graham', 'Flanagan', 'Florida-based', 'fast', 'food', 'chain', 'Tropical,', 'which', 'specializes', 'citrus-marinated', 'chicken.', '#PolloTropical', '#Florida', 'delectable-looking', 'dishes', 'actually', 'soap!', 'Link', 'read', 'soap', 'maker', 'creates', 'molds', 'leave', 'customers', 'looking', 'twice.', '#foodart', '#soapmaker', '#soapdesign\\u2063', '@fakecake_soap/', 'Instagram)', 'Lou', \"Malnati's\", 'deep', 'dish', 'pizza', 'In', '@loumalnatis', 'choice', \"city's\", 'iconic', 'deep-dish', 'pizza.', 'caught', 'spot', 'who', 'love', 'what', \"Malanti's\", 'standout', 'region.', '#pizza', '#Chicago', '#LouMalnatis', '#chicagopizza', 'Bamboo', 'Biryani', 'At', 'Jungle', 'View', 'Restaurant,', 'Odisha', '#dilsefoodie', '#bamboo', '#biryani', '#odisha', 'VIRTUAL', 'IFTAAR', 'E', 'MEHFIL', '!!', 'Zindagi', 'ki', 'thi', 'tez', 'raftaar', 'Jaate', 'doston', 'ke', 'ghar', 'Iftaar', 'Aaj', 'karenge', 'hum', 'iftaar', 'virtual', 'Pehle', 'wali', 'Eid', 'manayenge', 'nahi', 'Kal', '!', 'Do', 'going', 'friends', 'family', '‘s', 'homes', 'Iftaari!?', 'Well', 'Virtual', 'Mehfil', 'did', 'United', 'Festival', 'Covid', '19', 'us', 'locked', 'our', 'cannot', 'away', 'spirit', 'celebration', 'festivals', 'Will', 'join', '!?', '@dilsefoodie', '@luckyladyblossom', '@he_cook_she_eat', '@geetasfoodielife', '@chatpati_shikha', '@chefrehman', '@foodconnectindia', '@foodjournal_mumbai', '@mistertikku', 'Concept', 'Video', 'editing', 'caption', '#virtualiftaar', 'Kala', 'Khatta,', 'Orange', 'And', 'Lemon', 'Soda', 'Just', 'Rs', '15', '#nagpur', 'Champaran', 'Style', 'Mutton', 'Curry', 'Tag', 'Lovers', '#muttoncurry', 'Desi', 'Chowmin', 'Anyone', 'Where', 'Who', 'Crave', 'Chinese', 'Van', '?', 'Mughlai', 'Paneer', 'First', 'Time', 'Tried', '#mughlaifood', 'Simple', 'Punjabi', 'Dal', 'Tadka', 'Here', 'Love', '#daltadka', 'Easiest', 'Way', 'Pyaaz', 'Parantha', 'Someone', 'Would', 'To', 'Try', 'This.', 'Mango', 'Badam', 'Kheer', 'Kuch', 'Meetha', 'Ho', 'Jaye', '😜', 'Koi', 'Ka', 'Deewana', 'Hai', 'Kya', '#mangoweek', 'Finally', 'Chicken', 'Of', '#butterchicken', 'Basil', 'Marini', '@mr.bartrender', 'perfect', 'drink', 'season!', '🥭🍹', 'Recipe:', 'Vodka', '30-60', 'ml', '(depend', 'upon', 'preference', 'also', 'add', 'Gin', '😜)', 'juice', '90', '/', 'fresh', 'mango', 'puree', '60', '30', 'water', 'leaves', '2-3', '10', 'Ice', 'Glass:', 'Cocktail', 'glass', 'Garnish', ':', 'basil', 'leaf', 'slice', 'Method', 'shaken', '#QuarantineFoodDelivery', '#OrderSafely', 'Don’t', 'let', 'COVID', 'keep', 'indulging', 'favourite', 'meals.', 'safety', 'tips', 'reduce', 'risk', 'enjoy', 'food.', 'currently', 'no', 'evidence', 'COVID-19', 'transmitted', 'through', 'packaging*', 'As', 'cooking', 'kills', 'virus,', 'biggest', 'concern', 'ordering', 'handling', 'cooked.', 'Ensure', 'discard', 'outside', 'packaging,', 'sanitise', 'surface', 'comes', 'touch', 'such', 'wash', 'hands', 'thoroughly!', 'Weekend', 'vibes', 'kicking', 'in!', '🍸', 'Yalla', 'habibi', '_', 'zaatar', 'marinated', 'beetroot', 'pickle,', 'hummus', 'garlic', 'aoili,', 'Texas', 'massacre', '-', 'BBQ', 'style', 'slow', 'cooked', 'pulled', 'pork', 'sauce,', 'Tuscan', 'sunrise', 'smoked', 'arugula🤤😍', '@bigfatsandwichindia', 'now', 'delivering', 'Big', 'Fat', 'Favourites', 'Galleria', 'outlet!!', 'Order', 'via', 'zomato/swiggy', 'city’s', 'beloved', 'Chill', 'opening', 'doors', 'process', 'finalising', 'home', 'deliveries', 'near', 'future!!', 'Yep,', 'right!', 'Traditional', 'Burmese', 'KhowSuey', 'kitchen', '@anjali__batra', \"that's\", 'been', 'passed', 'Anjali’s', 'grandmother', 'was', 'born', 'brought', 'Burma', '{', 'own', 'recipe}', 'Khow', 'Suey', '6', 'Coconut', 'Milk', 'use', '2', 'cans', 'store', 'bought', 'coconut', 'milk}', 'Break', 'cut', 'small', 'pieces', 'Add', '1.5', 'blitz', 'grinder', 'Pour', 'flesh', 'serve', 'strain', 'Repeat', '3', 'times.', 'Using', '1', 'cup', 'each', 'Broth', 'want', 'vegetarian', 'broth', 'replace', 'mushrooms', 'Broccoli}', 'washed', 'cleaned', '}', 'teaspoon', 'salt', 'teaspoons', 'ginger', 'paste', 'Put', 'together', 'pressure', 'cooker', 'high', 'flame', 'till', 'whistle.', 'Reduce', '5', 'mins.', 'Strain', 'broth.', 'SOUP', 'BASE', 'besan', 'Roast', 'non', 'stick', 'pan', \"it's\", 'nice', 'golden', 'brown', '20-25', 'mins}', 'Once', 'roasted.', 'blender', '1.5cups', 'Leave', 'aside.', 'ASSEMBLY', 'big', 'pot.', 'tablespoon', 'oil', 'Heat', 'paste.', 'milk', 'shredded', 'Bring', 'boil', 'taste.', 'Its', 'Ready!', 'Serve', 'steamed', 'noodles', 'ons', '1.', '2.', 'Salt', '3.', 'Chilli', '4.', 'Fresh', '5.', 'Boild', 'egg', '6.', 'Fried', '7.', '8.', 'Roasted', 'peanuts', '#KitchenHacks', '#KeepCookiesFresh', 'stale,', 'them', 'day', 'they', 'baked.', 'kidding', ':)', 'were', 'baked,', 'air-tight', 'container', 'store-bought', 'bread.', '🍞', 'moisture', 'bread', 'slows', 'loss', 'baked', 'items.', 'Keeping', 'chewy!', '📸:', 'Kitchn', 'Indian', 'Mexican', 'Leftover', 'Rajma', 'Enchiladas', 'Kitchen', 'Messy', 'Mama', '(', '@reddysameera', ')', 'Sassy', 'Saasu', '(@manjrivarde', 'How', 'leftover', 'exciting?', 'turn', 'Yummy', 'Easy', 'wraps', 'few', 'fridge!', '💃All', 'need', 'Chopped', 'Green', 'Capsicum', 'Boiled', 'corn', 'Crumbled', 'Shredded', 'Cheese', 'slices', 'Cooked', '(however', 'it).', 'Tortilla.', 'tomato', '💃Homemade', 'Tortilla', '1/2', 'maida', 'wheat', 'aata', 'tbsp', ',', '💃Mix', 'dough', 'rest', '20', 'minutes', 'Roll', 'large', 'rotis', 'cook', 'both', 'sides', 'medium', 'gas.', 'Tomato', 'Base', 'Sauce', '/pasta', 'also)', 'tomatoes', 'Finely', 'chopped', 'onion', 'olive', 'cloves', 'tsp', 'black', 'pepper', 'powder', 'sugar', 'italian', 'seasoning', 'blanch', 'blanching', 'putting', 'boiling', 'skin', 'splits)', 'then', 'peel', 'cool', 'purée.', 'pan,', 'Cook', 'translucent.', 'purée', 'salt,', 'seasoning.', 'gas', 'thickens', 'Set', 'aside', '💃Make', 'spooning', 'rajma,', ',capsicum', 'crumbled', 'paneer', 'Roti:', 'Fold', 'shown', '💃Generously', 'spoon', 'sprinkle', 'cheese', 'I', 'because', 'thanks', 'lockdown', 'i', 'only', 'had', 'that!', '💃Bake', '-20', 'min', 'until', 'bubbly', 'Drizzle', 'serve!', '💃You', 'team', 'easy', 'salsa', 'previous', ').', '💃Have', 'fun', 'cooking!', 'It’s', 'really', 'staying', 'happy', 'enjoying', 'yourself', 'Pindi', 'Chola', 'Bhatura', '@chefsagarbajaj', '8cups', 'curd', 'dhai', 'cumin', '1tsp', '1/4', 'vegetable', '8', 'samolina', '4', 'dry', '🍲', 'bowl', 'mix', 'evenly', 'well', 'start', 'Once’s', 'nicely', 'incorporated', 'knead', 'little', 'good', 'hours', 'Sagar', '250', 'soaked', 'kabuli', 'channa', 'night', 'Garlic', 'Bay', '-1', 'Ginger', 'inch', 'Clove', '-2', 'piece', 'Black', 'bags', '6-8', 'vessels', 'Masala', 'pundi', 'chole', 'tblsp', 'ghee', 'sliced', '4-6', 'green', 'chilli', 'roasted', '🍅', 'diced', 'madras', 'shallots', 'masala', 'garnish', 'Coriander', 'julienned', 'tender', 'fry', 'off', 'mins', 'while', 'boiled', '10-15', 'mashing', 'simmer', 'coriander', 'times', 'bad,', \"there's\", 'always', 'comfort', 'feeding', 'another', '🙏🏼', 'Silly', 'souls', 'cafe', 'service', 'help', 'feed', 'sanitation', 'workers', 'called', 'Dhanyavaad', 'Seva.', 'bringing', 'clean', 'healthy', 'people', 'working', 'hard', 'scorching', 'heat.', 'Their', 'target', 'give', '200', 'meals', 'daily', 'expectant', 'mothers,', 'lactating', 'elderly', 'worker', 'Delhi', 'NCR.', 'All', 'necessary', 'precautions', 'maintain', 'hygiene', 'taken', 'restaurant.', 'batch', 'went', 'families', '#BIWCamp', '#Badarpur,', '#Gautampuri,', 'Subhash', 'Camp,', '#Tughlakabadvillage,', '#shaktivihar.', 'Each', 'consists', '200g', 'rice,', '150g', 'dal,', 'sabzi,', 'chapattis,', 'salad/raita,', 'packed', 'neatly', 'recyclable', 'plastic', 'box.', 'efforts', 'Seva', 'completely', 'supported', 'donations.', 'box', 'costs', 'Rs.100.', 'If', 'would', 'donate,', 'please', 'DM', '@sillysoulscafe', 'Feed', 'fearless!']\n"
     ]
    }
   ],
   "source": [
    "#Prepare a list of all words used in all the scraped posts and calculate the frequency of each word.\n",
    "#freq dictionary contains each word as key and frequency of each word as value\n",
    "freq={}\n",
    "for i in l:\n",
    "    for j in i:\n",
    "        j=j.split()\n",
    "        for k in j:\n",
    "            if(k in freq):\n",
    "                freq[k]+=1\n",
    "            else:\n",
    "                freq[k]=1\n",
    "list_of_all_words=list(freq.keys())\n",
    "print(list_of_all_words)"
   ]
  },
  {
   "cell_type": "code",
   "execution_count": 62,
   "metadata": {},
   "outputs": [
    {
     "name": "stdout",
     "output_type": "stream",
     "text": [
      "{'Southern': 1, 'Bubble': 1, 'and': 62, 'Squeak': 1, '@GuyFieri': 1, \"couldn't\": 1, 'get': 3, 'enough': 1, 'of': 34, 'the': 88, 'pot': 2, 'likker': 1, 'gravy': 1, 'on': 20, 'this': 10, 'southern': 2, 'version': 2, 'eggs': 1, 'Benedict': 1, 'at': 7, '@auntmaryscafe!': 1, '🤗': 1, 'Settle': 1, 'in': 47, 'for': 39, 'a': 43, '#DDD': 1, 'marathon': 1, 'beginning': 1, '2|1c.': 1, 'Fire': 1, 'up': 7, 'grill': 1, 'round': 1, \"@BobbyFlay's\": 1, 'best': 6, 'Turkey': 1, 'Burgers!': 1, '🔥🔥': 1, '.': 49, 'A': 1, 'new': 5, 'grilling': 1, 'episode': 3, '#BeatBobbyFlay': 1, 'is': 22, 'coming': 1, 'tonight': 1, '@': 2, '10|9c!': 1, 'Save': 4, 'recipe': 8, '@FoodNetworkKitchen': 6, 'app.': 4, 'Class': 1, 'Day:': 2, 'Chimichurri': 1, 'Skirt': 1, 'Steak': 1, 'with': 27, 'Grilled': 1, 'Shishitos': 1, '🥩': 1, 'Weekends': 1, 'are': 12, 'made': 2, 'grilling!': 1, 'An': 2, 'herby': 1, 'chimichurri': 1, 'sauce': 4, 'punches': 1, 'skirt': 1, 'steak,': 1, 'complemented': 1, 'by': 6, 'grilled': 2, 'shishito': 1, 'peppers': 1, \"@jamesbriscione's\": 1, 'class.': 1, 'Take': 3, 'it': 20, 'today': 5, 'app!': 2, '#WeCook': 3, 'Chocolate': 1, 'Chip': 1, 'Cookies': 1, '(with': 2, '@thepioneerwoman)': 1, '🍪': 2, 'There': 2, 'lots': 2, 'chocolate': 2, 'chip': 1, 'recipes': 1, 'out': 7, 'there,': 1, 'but': 4, 'trust': 1, 'when': 2, 'we': 3, 'say': 1, 'these': 1, 'ones': 1, 'you': 16, 'NEED.': 1, 'Catch': 2, '@ThePioneerWoman,': 2, 'Saturdays': 1, '10a|9c.': 1, 'your': 14, 'New': 4, 'challenge:': 1, 'Make': 1, \"@wolfiemom's\": 1, 'Peanut': 1, 'Butter': 3, 'Brownies': 1, 'Salted': 1, 'Pretzels': 1, 'try': 1, 'not': 1, 'to': 33, 'eat': 2, 'whole': 2, 'pan.': 1, \"It'll\": 1, 'be': 4, 'hard,': 1, 'since': 1, 'fudgy': 1, 'chocolate,': 1, 'creamy': 2, 'peanut': 1, 'butter': 1, 'salty': 1, 'crunchy': 1, 'pretzels': 1, 'just': 4, 'about': 4, 'combo': 1, 'world': 1, '🤤Take': 1, 'class': 1, 'Favorite': 1, 'Food': 5, 'Memories': 1, '#WorstCooks': 4, 'Celebrities)': 1, 'We': 2, 'took': 1, 'trip': 1, 'down': 4, 'memory': 2, 'lane': 1, 'celebrities': 1, 'find': 1, 'their': 6, 'very': 1, 'first': 3, 'being': 2, 'kitchen!': 1, '(Plus,': 1, 'some': 3, 'absolute': 1, 'favorite': 5, 'dishes!)': 1, 'all-new': 2, 'Celebrity': 2, 'Edition': 2, 'tomorrow': 1, '9|8c.': 1, \"@ChefAnneBurrell's\": 1, 'infamous': 1, 'red': 1, 'marker': 1, 'makes': 4, 'triumphant': 1, 'return': 1, 'Boot': 1, 'Camp!': 1, '🔴': 1, \"Don't\": 1, 'miss': 2, 'an': 4, '>': 1, 'Sunday': 1, '9|8c': 1, \"Ree's\": 1, 'Sunshine': 1, 'Pasta': 1, 'Salad': 2, '☀️☀️': 1, 'This': 4, 'top-rated': 1, 'tossed': 1, 'colorful': 1, 'veggies': 1, 'lemon': 1, 'dressing!': 1, '👌': 1, '10a|9c!': 1, 'Homemade': 3, 'Sloppy': 2, 'Joes,': 1, 'Hold': 1, 'Meat!': 1, '💯(via': 1, '@KatieLeeKitchen)': 1, '@KatieLeeKitchen': 1, 'skips': 1, 'usual': 1, 'ground': 1, 'beef': 2, 'uses': 1, 'hearty': 1, 'lentils': 1, 'form': 1, 'base': 3, 'her': 1, 'homemade': 1, 'Joes!': 1, 'They': 5, 'taste': 3, 'like': 4, 'that': 4, \"ol'\": 1, 'childhood': 1, '😋😋': 1, 'Watch': 1, 'latest': 1, '#WhatWouldKatieEat:': 1, 'Home': 2, 'Edition,': 1, 'featuring': 1, 'cameos': 1, 'from': 10, \"Katie's\": 1, 'husband,': 1, 'Ryan,': 1, 'adorable': 1, 'dog,': 1, 'Gus!': 1, 'Recipe': 4, \"@JetTila's\": 1, 'Bacon': 1, 'Egg': 1, 'Potato': 1, '🥓Save': 1, '@foodnetworkkitchen': 1, 'app': 1, 'today!': 1, 'place': 3, 'Seattle': 1, 'serves': 3, 'tide-to-table': 1, 'shellfish!': 1, '😱Follow': 1, '👉@bringme': 3, 'more': 10, 'foodie': 7, 'spots': 1, 'around': 5, 'world!': 3, 'Are': 1, 'ready': 1, 'bougie': 1, 'budget?': 1, 'You': 2, 'can': 10, 'Michelin': 1, 'star': 1, 'meal': 3, 'Paris!': 1, '🇫🇷Follow': 1, 'adventures!': 3, 'Why': 2, \"aren't\": 1, 'following': 2, '@bringme': 7, 'yet?!': 1, '🍜Follow': 1, '🌍✈️': 1, 'Brazil': 1, 'cheesiest': 1, 'chili': 1, 'cheeseburgers!': 1, '😋🍔Follow': 1, 'more!': 1, 'Move': 1, 'over': 3, 'Italy,': 1, 'Vancouver': 1, 'might': 1, 'have': 3, \"world's\": 1, 'gelato!': 1, \"🍨What's\": 1, 'gelato': 1, 'flavor?': 1, 'Follow': 2, 'mouthwatering': 1, 'adventures': 4, 'globe!': 2, '🌎': 1, 'Sushi': 1, '+': 2, 'sustainability': 1, '=': 1, 'my': 1, 'dream': 1, 'come': 1, 'true!': 1, '🍣Follow': 1, '✈️': 4, '#bringme': 1, '#portlandtravel': 1, '#sushirestuarant': 1, '#sushi': 1, '#oregontravel': 1, '#sustainability': 1, 'These': 2, 'cheesecake': 1, 'tea': 2, 'cups': 3, \"I'll\": 1, 'take': 2, 'one': 6, 'EVERYTHING.': 1, '😍🍰Follow': 1, 'pickle': 1, 'beer': 1, 'flights': 1, 'twist!': 1, '🍻Follow': 1, 'all': 7, 'Cozy': 1, 'hot': 5, 'café!': 1, '50': 1, 'different': 1, 'kinds!': 1, '☕️🍫Follow': 1, 'Thanks': 1, 'dairy-free': 1, 'blueberry': 2, 'lime': 1, '“cheesecake”': 1, '@goodful': 1, '😍🤤': 1, 'Incorrectly': 1, 'mixing': 1, 'ingredients': 6, 'prevent': 2, 'achieving': 1, 'bakery-style': 1, 'results.': 1, 'Click': 1, 'link': 2, 'bio': 3, 'eight': 1, 'mistakes': 1, 'could': 1, 'making': 1, 'baking': 3, 'brownies.\\u2063': 1, '\\u2063\\u2063': 5, '\\u2063#brownies': 1, '#foodies': 1, '#baking': 1, '#diy': 1, '\\u2063': 1, '\\u2063(Credit:': 3, 'iStock)': 1, \"Chicago's\": 3, 'most': 2, 'legendary': 2, 'cheeseburger': 3, '|': 4, 'Legendary': 3, 'Eats': 3, 'Billy': 2, 'Goat': 2, 'Tavern,': 1, 'established': 1, '1934,': 1, 'burger': 4, 'institution': 1, 'Chicago,': 2, 'known': 2, 'its': 5, 'double': 1, 'thin,': 1, 'all-natural': 1, 'patties': 1, 'served': 1, 'kaiser-roll': 1, 'bun.': 1, 'Insider': 1, 'visited': 1, 'Tavern': 1, 'February': 1, '2020.': 1, 'still': 1, 'order': 2, 'Cheezborgers': 1, 'pick-up,': 1, 'or': 8, 'online.': 1, 'For': 4, 'information,': 1, 'visit:': 1, 'www.billygoattavern.com/': 1, '#cheeseburger': 2, '#burger': 1, '#cheezeborger': 1, '#food': 4, '#FoodInsider': 6, \"LA's\": 1, 'spiciest': 1, 'chicken': 7, 'too': 2, 'any': 3, 'menu': 1, \"Howlin'\": 3, \"Ray's\": 2, 'doing': 1, 'delivery': 1, 'time': 1, 'ever': 1, 'right': 1, 'now.': 1, 'Los': 2, 'Angeles': 1, 'incredibly': 1, 'fried': 1, 'chicken,': 1, 'has': 4, 'even': 1, 'spicier': 1, 'offering:': 1, 'Plus.': 1, \"It's\": 1, 'secret': 1, 'menu,': 1, \"it'll\": 1, 'blow': 1, 'top': 2, 'off.': 1, \"We're\": 1, 'heading': 1, 'restaurant': 2, 'Chinatown': 1, 'see': 3, 'if': 2, 'handle': 1, 'extra': 2, 'level': 1, 'spice.': 1, '#chicken': 2, '#LA': 2, '#losangeles': 2, '#friedchicken': 1, 'Recreating': 1, \"York's\": 2, 'pancakes': 2, 'Clinton': 1, 'St.': 1, 'Baking': 1, 'Company': 1, '@clintonstbakingco': 1, 'famous': 3, 'pancakes,': 1, 'used': 3, 'attract': 1, 'long': 1, 'lines': 1, 'brunch': 1, 'every': 3, 'weekend.': 1, 'Chef': 1, 'Neil': 1, 'Kleinberg': 1, 'teaches': 1, 'Insider’s': 1, '@rinnny_': 1, 'how': 3, 'make': 5, 'restaurant’s': 1, 'wild': 1, 'Maine': 1, 'maple': 1, 'butter.': 1, '#pancakes': 1, '#breakfast': 1, '#nyc': 2, '#nycfoodies': 1, 'Having': 1, 'trouble': 1, 'getting': 2, 'chocolate-chip': 1, 'cookies': 3, 'look': 1, 'right?': 1, 'Check': 1, 'overmixing': 1, 'using': 1, 'much': 1, 'ingredient': 1, 'drastically': 1, 'affect': 1, 'end': 1, 'result.\\u2063': 1, '\\u2063#chocolatechipcookies': 1, '#cookies': 1, '#bakingfromscratch': 1, '#dessert\\u2063': 1, '@raskinasi/': 1, 'Insider)': 1, 'The': 10, 'LA': 2, 'sells': 1, 'weekend': 1, 'Line': 1, 'Around': 1, 'Block': 1, 'Goldburger': 2, 'opened': 1, 'pop-up': 2, 'location': 1, 'highland': 1, 'park': 1, 'after': 2, 'closing': 1, 'early': 1, 'due': 1, 'COVID-19.': 1, 'address': 1, '5623': 1, 'York': 2, 'Blvd,': 1, 'Angeles,': 1, 'CA': 1, '90042': 1, 'takeout': 1, 'Thursday-Sunday': 1, '12pm-9pm.': 1, 'started': 2, 'as': 4, 'backyard,': 1, 'recently': 1, 'won': 1, 'Wine’s': 1, '2019.': 1, 'smash': 1, 'onions': 5, 'into': 7, 'crispy': 1, 'patty': 1, 'load': 1, 'soft': 3, 'white': 2, 'bun': 1, 'dripping': 1, 'American': 1, 'cheese.': 1, \"Katz's\": 1, 'pastrami': 2, 'rye': 1, '@katzsdeli': 1, \"City's\": 1, 'longest-treasured': 1, 'destinations.': 1, '132-year-old': 1, 'deli': 1, 'rye,': 1, 'plate': 1, 'requires': 1, \"month's\": 1, 'attention.': 1, 'Featuring': 1, '@tarynvee': 2, '#deli': 1, '#katzsdeli': 1, '#katzs': 1, '#pastrami': 1, '#pastramionrye': 1, '#nyeats': 1, '#legendaryeats': 1, 'tried': 2, 'Pollo': 2, 'Tropical': 1, '—': 1, 'Chick-Fil-A': 1, 'Florida': 1, 'Senior': 1, 'video': 4, 'correspondent': 1, 'Graham': 1, 'Flanagan': 1, 'Florida-based': 1, 'fast': 1, 'food': 6, 'chain': 1, 'Tropical,': 1, 'which': 2, 'specializes': 1, 'citrus-marinated': 1, 'chicken.': 1, '#PolloTropical': 1, '#Florida': 1, 'delectable-looking': 1, 'dishes': 1, 'actually': 1, 'soap!': 1, 'Link': 1, 'read': 2, 'soap': 1, 'maker': 1, 'creates': 1, 'molds': 1, 'leave': 3, 'customers': 2, 'looking': 1, 'twice.': 1, '#foodart': 1, '#soapmaker': 1, '#soapdesign\\u2063': 1, '@fakecake_soap/': 1, 'Instagram)': 1, 'Lou': 2, \"Malnati's\": 1, 'deep': 2, 'dish': 3, 'pizza': 3, 'In': 7, '@loumalnatis': 1, 'choice': 1, \"city's\": 1, 'iconic': 1, 'deep-dish': 1, 'pizza.': 1, 'caught': 1, 'spot': 1, 'who': 3, 'love': 1, 'what': 1, \"Malanti's\": 1, 'standout': 1, 'region.': 1, '#pizza': 1, '#Chicago': 1, '#LouMalnatis': 1, '#chicagopizza': 1, 'Bamboo': 1, 'Biryani': 1, 'At': 2, 'Jungle': 1, 'View': 1, 'Restaurant,': 1, 'Odisha': 1, '#dilsefoodie': 10, '#bamboo': 1, '#biryani': 1, '#odisha': 1, 'VIRTUAL': 1, 'IFTAAR': 1, 'E': 2, 'MEHFIL': 1, '!!': 2, 'Zindagi': 1, 'ki': 1, 'thi': 1, 'tez': 1, 'raftaar': 1, 'Jaate': 1, 'doston': 1, 'ke': 1, 'ghar': 1, 'Iftaar': 3, 'Aaj': 2, 'karenge': 1, 'hum': 1, 'iftaar': 1, 'virtual': 1, 'Pehle': 1, 'wali': 1, 'Eid': 1, 'manayenge': 1, 'nahi': 1, 'Kal': 1, '!': 4, 'Do': 1, 'going': 1, 'friends': 1, 'family': 3, '‘s': 1, 'homes': 2, 'Iftaari!?': 1, 'Well': 1, 'Virtual': 2, 'Mehfil': 2, 'did': 1, 'United': 1, 'Festival': 1, 'Covid': 1, '19': 1, 'us': 2, 'locked': 1, 'our': 5, 'cannot': 1, 'away': 1, 'spirit': 1, 'celebration': 1, 'festivals': 1, 'Will': 1, 'join': 1, '!?': 1, '@dilsefoodie': 1, '@luckyladyblossom': 2, '@he_cook_she_eat': 1, '@geetasfoodielife': 2, '@chatpati_shikha': 1, '@chefrehman': 1, '@foodconnectindia': 1, '@foodjournal_mumbai': 1, '@mistertikku': 1, 'Concept': 1, 'Video': 1, 'editing': 1, 'caption': 1, '#virtualiftaar': 1, 'Kala': 1, 'Khatta,': 1, 'Orange': 1, 'And': 2, 'Lemon': 3, 'Soda': 1, 'Just': 2, 'Rs': 1, '15': 2, '#nagpur': 1, 'Champaran': 1, 'Style': 1, 'Mutton': 2, 'Curry': 1, 'Tag': 2, 'Lovers': 1, '#muttoncurry': 1, 'Desi': 1, 'Chowmin': 1, 'Anyone': 2, 'Where': 1, 'Who': 3, 'Crave': 1, 'Chinese': 1, 'Van': 1, '?': 3, 'Mughlai': 2, 'Paneer': 3, 'First': 1, 'Time': 1, 'Tried': 1, '#mughlaifood': 1, 'Simple': 2, 'Punjabi': 1, 'Dal': 2, 'Tadka': 2, 'Here': 1, 'Love': 2, '#daltadka': 1, 'Easiest': 2, 'Way': 1, 'Pyaaz': 1, 'Parantha': 1, 'Someone': 1, 'Would': 1, 'To': 3, 'Try': 1, 'This.': 1, 'Mango': 4, 'Badam': 1, 'Kheer': 1, 'Kuch': 1, 'Meetha': 1, 'Ho': 1, 'Jaye': 1, '😜': 1, 'Koi': 1, 'Ka': 1, 'Deewana': 1, 'Hai': 1, 'Kya': 1, '#mangoweek': 1, 'Finally': 1, 'Chicken': 3, 'Of': 1, '#butterchicken': 1, 'Basil': 2, 'Marini': 1, '@mr.bartrender': 1, 'perfect': 1, 'drink': 1, 'season!': 1, '🥭🍹': 1, 'Recipe:': 1, 'Vodka': 1, '30-60': 1, 'ml': 5, '(depend': 1, 'upon': 1, 'preference': 1, 'also': 2, 'add': 9, 'Gin': 1, '😜)': 1, 'juice': 3, '90': 1, '/': 1, 'fresh': 3, 'mango': 2, 'puree': 1, '60': 1, '30': 1, 'water': 10, 'leaves': 2, '2-3': 3, '10': 1, 'Ice': 1, 'Glass:': 1, 'Cocktail': 1, 'glass': 1, 'Garnish': 1, ':': 2, 'basil': 1, 'leaf': 2, 'slice': 2, 'Method': 1, 'shaken': 1, '#QuarantineFoodDelivery': 1, '#OrderSafely': 1, 'Don’t': 1, 'let': 3, 'COVID': 1, 'keep': 2, 'indulging': 1, 'favourite': 1, 'meals.': 1, 'safety': 1, 'tips': 1, 'reduce': 1, 'risk': 1, 'enjoy': 2, 'food.': 1, 'currently': 1, 'no': 1, 'evidence': 1, 'COVID-19': 1, 'transmitted': 1, 'through': 1, 'packaging*': 1, 'As': 1, 'cooking': 1, 'kills': 1, 'virus,': 1, 'biggest': 1, 'concern': 1, 'ordering': 1, 'handling': 1, 'cooked.': 1, 'Ensure': 1, 'discard': 1, 'outside': 1, 'packaging,': 1, 'sanitise': 1, 'surface': 1, 'comes': 1, 'touch': 1, 'such': 1, 'wash': 1, 'hands': 1, 'thoroughly!': 1, 'Weekend': 1, 'vibes': 1, 'kicking': 1, 'in!': 1, '🍸': 1, 'Yalla': 1, 'habibi': 1, '_': 1, 'zaatar': 1, 'marinated': 1, 'beetroot': 1, 'pickle,': 1, 'hummus': 1, 'garlic': 9, 'aoili,': 1, 'Texas': 1, 'massacre': 1, '-': 10, 'BBQ': 1, 'style': 2, 'slow': 1, 'cooked': 1, 'pulled': 1, 'pork': 1, 'sauce,': 1, 'Tuscan': 1, 'sunrise': 1, 'smoked': 1, 'arugula🤤😍': 1, '@bigfatsandwichindia': 1, 'now': 1, 'delivering': 1, 'Big': 2, 'Fat': 1, 'Favourites': 1, 'Galleria': 1, 'outlet!!': 1, 'Order': 1, 'via': 1, 'zomato/swiggy': 1, 'city’s': 1, 'beloved': 1, 'Chill': 1, 'opening': 1, 'doors': 1, 'process': 1, 'finalising': 1, 'home': 1, 'deliveries': 1, 'near': 1, 'future!!': 1, 'Yep,': 1, 'right!': 1, 'Traditional': 2, 'Burmese': 2, 'KhowSuey': 2, 'kitchen': 1, '@anjali__batra': 1, \"that's\": 1, 'been': 1, 'passed': 1, 'Anjali’s': 1, 'grandmother': 1, 'was': 1, 'born': 1, 'brought': 1, 'Burma': 1, '{': 5, 'own': 1, 'recipe}': 1, 'Khow': 1, 'Suey': 1, '6': 3, 'Coconut': 1, 'Milk': 1, 'use': 1, '2': 10, 'cans': 1, 'store': 2, 'bought': 1, 'coconut': 3, 'milk}': 1, 'Break': 1, 'cut': 1, 'small': 1, 'pieces': 1, 'Add': 12, '1.5': 3, 'blitz': 3, 'grinder': 1, 'Pour': 1, 'flesh': 1, 'serve': 2, 'strain': 1, 'Repeat': 1, '3': 3, 'times.': 1, 'Using': 1, '1': 12, 'cup': 7, 'each': 1, 'Broth': 1, 'want': 1, 'vegetarian': 1, 'broth': 3, 'replace': 1, 'mushrooms': 1, 'Broccoli}': 1, 'washed': 1, 'cleaned': 1, '}': 1, 'teaspoon': 2, 'salt': 4, 'teaspoons': 1, 'ginger': 3, 'paste': 1, 'Put': 3, 'together': 1, 'pressure': 3, 'cooker': 3, 'high': 1, 'flame': 2, 'till': 6, 'whistle.': 1, 'Reduce': 1, '5': 4, 'mins.': 1, 'Strain': 1, 'broth.': 1, 'SOUP': 1, 'BASE': 1, 'besan': 3, 'Roast': 1, 'non': 1, 'stick': 1, 'pan': 2, \"it's\": 1, 'nice': 1, 'golden': 1, 'brown': 1, '20-25': 1, 'mins}': 1, 'Once': 1, 'roasted.': 1, 'blender': 1, '1.5cups': 1, 'Leave': 1, 'aside.': 1, 'ASSEMBLY': 1, 'big': 1, 'pot.': 1, 'tablespoon': 1, 'oil': 7, 'Heat': 1, 'paste.': 2, 'milk': 1, 'shredded': 1, 'Bring': 1, 'boil': 2, 'taste.': 1, 'Its': 1, 'Ready!': 1, 'Serve': 1, 'steamed': 1, 'noodles': 1, 'ons': 1, '1.': 1, '2.': 1, 'Salt': 3, '3.': 1, 'Chilli': 1, '4.': 1, 'Fresh': 1, '5.': 1, 'Boild': 1, 'egg': 1, '6.': 1, 'Fried': 2, '7.': 1, '8.': 1, 'Roasted': 1, 'peanuts': 1, '#KitchenHacks': 1, '#KeepCookiesFresh': 1, 'stale,': 1, 'them': 4, 'day': 2, 'they': 2, 'baked.': 1, 'kidding': 1, ':)': 1, 'were': 1, 'baked,': 1, 'air-tight': 1, 'container': 1, 'store-bought': 1, 'bread.': 1, '🍞': 1, 'moisture': 2, 'bread': 1, 'slows': 1, 'loss': 1, 'baked': 1, 'items.': 1, 'Keeping': 1, 'chewy!': 1, '📸:': 1, 'Kitchn': 1, 'Indian': 1, 'Mexican': 3, 'Leftover': 1, 'Rajma': 3, 'Enchiladas': 1, 'Kitchen': 2, 'Messy': 1, 'Mama': 1, '(': 4, '@reddysameera': 1, ')': 2, 'Sassy': 1, 'Saasu': 1, '(@manjrivarde': 1, 'How': 1, 'leftover': 1, 'exciting?': 1, 'turn': 1, 'Yummy': 1, 'Easy': 1, 'wraps': 2, 'few': 1, 'fridge!': 1, '💃All': 1, 'need': 1, 'Chopped': 2, 'Green': 1, 'Capsicum': 1, 'Boiled': 1, 'corn': 2, 'Crumbled': 1, 'Shredded': 1, 'Cheese': 1, 'slices': 2, 'Cooked': 1, '(however': 1, 'it).': 1, 'Tortilla.': 1, 'tomato': 5, '💃Homemade': 2, 'Tortilla': 2, '1/2': 4, 'maida': 2, 'wheat': 1, 'aata': 1, 'tbsp': 3, ',': 5, '💃Mix': 1, 'dough': 3, 'rest': 3, '20': 1, 'minutes': 1, 'Roll': 1, 'large': 2, 'rotis': 1, 'cook': 3, 'both': 1, 'sides': 1, 'medium': 4, 'gas.': 1, 'Tomato': 1, 'Base': 1, 'Sauce': 1, '/pasta': 1, 'also)': 1, 'tomatoes': 4, 'Finely': 1, 'chopped': 2, 'onion': 3, 'olive': 2, 'cloves': 3, 'tsp': 11, 'black': 2, 'pepper': 3, 'powder': 2, 'sugar': 3, 'italian': 1, 'seasoning': 1, 'blanch': 1, 'blanching': 1, 'putting': 1, 'boiling': 1, 'skin': 1, 'splits)': 1, 'then': 3, 'peel': 1, 'cool': 2, 'purée.': 1, 'pan,': 1, 'Cook': 3, 'translucent.': 1, 'purée': 1, 'salt,': 1, 'seasoning.': 1, 'gas': 1, 'thickens': 1, 'Set': 1, 'aside': 1, '💃Make': 1, 'spooning': 1, 'rajma,': 1, ',capsicum': 1, 'crumbled': 1, 'paneer': 1, 'Roti:': 1, 'Fold': 1, 'shown': 1, '💃Generously': 1, 'spoon': 1, 'sprinkle': 1, 'cheese': 2, 'I': 1, 'because': 1, 'thanks': 1, 'lockdown': 1, 'i': 1, 'only': 1, 'had': 1, 'that!': 1, '💃Bake': 1, '-20': 1, 'min': 1, 'until': 1, 'bubbly': 1, 'Drizzle': 1, 'serve!': 1, '💃You': 1, 'team': 1, 'easy': 1, 'salsa': 1, 'previous': 1, ').': 1, '💃Have': 1, 'fun': 1, 'cooking!': 1, 'It’s': 1, 'really': 1, 'staying': 1, 'happy': 1, 'enjoying': 1, 'yourself': 1, 'Pindi': 2, 'Chola': 2, 'Bhatura': 3, '@chefsagarbajaj': 1, '8cups': 1, 'curd': 1, 'dhai': 1, 'cumin': 2, '1tsp': 1, '1/4': 1, 'vegetable': 1, '8': 1, 'samolina': 1, '4': 2, 'dry': 1, '🍲': 1, 'bowl': 1, 'mix': 1, 'evenly': 1, 'well': 1, 'start': 2, 'Once’s': 1, 'nicely': 1, 'incorporated': 1, 'knead': 1, 'little': 2, 'good': 2, 'hours': 1, 'Sagar': 1, '250': 1, 'soaked': 1, 'kabuli': 1, 'channa': 3, 'night': 1, 'Garlic': 1, 'Bay': 1, '-1': 2, 'Ginger': 2, 'inch': 1, 'Clove': 1, '-2': 1, 'piece': 1, 'Black': 1, 'bags': 1, '6-8': 1, 'vessels': 1, 'Masala': 1, 'pundi': 1, 'chole': 2, 'tblsp': 1, 'ghee': 2, 'sliced': 1, '4-6': 1, 'green': 1, 'chilli': 1, 'roasted': 2, '🍅': 1, 'diced': 1, 'madras': 1, 'shallots': 1, 'masala': 2, 'garnish': 2, 'Coriander': 1, 'julienned': 1, 'tender': 1, 'fry': 1, 'off': 1, 'mins': 3, 'while': 1, 'boiled': 1, '10-15': 1, 'mashing': 1, 'simmer': 1, 'coriander': 1, 'times': 1, 'bad,': 1, \"there's\": 1, 'always': 1, 'comfort': 1, 'feeding': 1, 'another': 1, '🙏🏼': 1, 'Silly': 1, 'souls': 1, 'cafe': 1, 'service': 1, 'help': 1, 'feed': 1, 'sanitation': 2, 'workers': 1, 'called': 1, 'Dhanyavaad': 2, 'Seva.': 1, 'bringing': 1, 'clean': 1, 'healthy': 1, 'people': 1, 'working': 1, 'hard': 1, 'scorching': 1, 'heat.': 1, 'Their': 1, 'target': 1, 'give': 1, '200': 2, 'meals': 2, 'daily': 1, 'expectant': 1, 'mothers,': 2, 'lactating': 1, 'elderly': 1, 'worker': 1, 'Delhi': 1, 'NCR.': 1, 'All': 1, 'necessary': 1, 'precautions': 1, 'maintain': 1, 'hygiene': 1, 'taken': 1, 'restaurant.': 1, 'batch': 1, 'went': 1, 'families': 1, '#BIWCamp': 1, '#Badarpur,': 1, '#Gautampuri,': 1, 'Subhash': 1, 'Camp,': 1, '#Tughlakabadvillage,': 1, '#shaktivihar.': 1, 'Each': 2, 'consists': 1, '200g': 1, 'rice,': 1, '150g': 2, 'dal,': 1, 'sabzi,': 1, 'chapattis,': 1, 'salad/raita,': 1, 'packed': 1, 'neatly': 1, 'recyclable': 1, 'plastic': 1, 'box.': 1, 'efforts': 1, 'Seva': 1, 'completely': 1, 'supported': 1, 'donations.': 1, 'box': 1, 'costs': 1, 'Rs.100.': 1, 'If': 1, 'would': 1, 'donate,': 1, 'please': 1, 'DM': 1, '@sillysoulscafe': 1, 'Feed': 1, 'fearless!': 1}\n"
     ]
    }
   ],
   "source": [
    "print(freq)"
   ]
  },
  {
   "cell_type": "code",
   "execution_count": 64,
   "metadata": {},
   "outputs": [],
   "source": [
    "#Create a csv file with two columns : the word and its frequency\n",
    "import csv\n",
    "import pandas as pd\n",
    "w = pd.DataFrame({'Words':list(freq.keys()), 'freq':list(freq.values())})\n",
    "w.to_csv('words.csv')"
   ]
  },
  {
   "cell_type": "code",
   "execution_count": 66,
   "metadata": {},
   "outputs": [
    {
     "name": "stdout",
     "output_type": "stream",
     "text": [
      "#dilsefoodie 10\n",
      "#FoodInsider 6\n",
      "#WorstCooks 4\n",
      "#food 4\n",
      "#WeCook 3\n",
      "#cheeseburger 2\n",
      "#chicken 2\n",
      "#LA 2\n",
      "#losangeles 2\n",
      "#nyc 2\n",
      "#DDD 1\n",
      "#BeatBobbyFlay 1\n",
      "#WhatWouldKatieEat: 1\n",
      "#bringme 1\n",
      "#portlandtravel 1\n",
      "#sushirestuarant 1\n",
      "#sushi 1\n",
      "#oregontravel 1\n",
      "#sustainability 1\n",
      "#foodies 1\n",
      "#baking 1\n",
      "#diy 1\n",
      "#burger 1\n",
      "#cheezeborger 1\n",
      "#friedchicken 1\n",
      "#pancakes 1\n",
      "#breakfast 1\n",
      "#nycfoodies 1\n",
      "#cookies 1\n",
      "#bakingfromscratch 1\n",
      "#dessert⁣ 1\n",
      "#deli 1\n",
      "#katzsdeli 1\n",
      "#katzs 1\n",
      "#pastrami 1\n",
      "#pastramionrye 1\n",
      "#nyeats 1\n",
      "#legendaryeats 1\n",
      "#PolloTropical 1\n",
      "#Florida 1\n",
      "#foodart 1\n",
      "#soapmaker 1\n",
      "#soapdesign⁣ 1\n",
      "#pizza 1\n",
      "#Chicago 1\n",
      "#LouMalnatis 1\n",
      "#chicagopizza 1\n",
      "#bamboo 1\n",
      "#biryani 1\n",
      "#odisha 1\n",
      "#virtualiftaar 1\n",
      "#nagpur 1\n",
      "#muttoncurry 1\n",
      "#mughlaifood 1\n",
      "#daltadka 1\n",
      "#mangoweek 1\n",
      "#butterchicken 1\n",
      "#QuarantineFoodDelivery 1\n",
      "#OrderSafely 1\n",
      "#KitchenHacks 1\n",
      "#KeepCookiesFresh 1\n",
      "#BIWCamp 1\n",
      "#Badarpur, 1\n",
      "#Gautampuri, 1\n",
      "#Tughlakabadvillage, 1\n",
      "#shaktivihar. 1\n"
     ]
    }
   ],
   "source": [
    "#Now, find the hashtags that were most popular among these bloggers\n",
    "#d2 dictionary contains hashtags only from freq dictionary\n",
    "d2={}\n",
    "for i in freq:\n",
    "#     print(i)\n",
    "    if(i[0]=='#'):\n",
    "        d2[i]=freq[i]\n",
    "#sort the dictionary according to their values and then return a list of keys in reverse sorted order\n",
    "l2=sorted(d2,key=d2.get,reverse=True)\n",
    "for i in l2:\n",
    "    print(i,d2[i])"
   ]
  },
  {
   "cell_type": "code",
   "execution_count": 68,
   "metadata": {},
   "outputs": [
    {
     "data": {
      "image/png": "[encoded data removed]",
      "text/plain": [
       "<Figure size 432x288 with 1 Axes>"
      ]
     },
     "metadata": {},
     "output_type": "display_data"
    },
    {
     "name": "stdout",
     "output_type": "stream",
     "text": [
      "[10, 6, 4, 4, 3]\n"
     ]
    }
   ],
   "source": [
    "# Plot a Pie Chart of the top 5 hashtags obtained and the number of times they were used by these bloggers in the scraped posts.\n",
    "#label contains top 5 hashtags\n",
    "label=[]\n",
    "#size contains the count of hashtags in the posts scraped\n",
    "size=[]\n",
    "for i in l2[:5]:\n",
    "    size.append(d2[i])\n",
    "    label.append(i)\n",
    "plt.pie(size,labels=label,autopct='%.2f%%')\n",
    "plt.show()"
   ]
  },
  {
   "cell_type": "code",
   "execution_count": 30,
   "metadata": {},
   "outputs": [
    {
     "name": "stdout",
     "output_type": "stream",
     "text": [
      "0.001638185592611994\n",
      "0.001493018437643598\n",
      "0.004942716452058899\n",
      "0.0173920487230293\n",
      "0.001793664238522785\n"
     ]
    }
   ],
   "source": [
    "#You need to also calculate average followers : likes ratio for the obtained handles.\n",
    "Followers : Likes ratio is calculated as follows:\n",
    "Ratio=[]\n",
    "for i in top_5:\n",
    "    ratio=followers_like_ratio(i)\n",
    "    time.sleep(5)\n",
    "    Ratio.append(ratio)\n",
    "    print(ratio)"
   ]
  },
  {
   "cell_type": "code",
   "execution_count": 32,
   "metadata": {},
   "outputs": [
    {
     "data": {
      "image/png": "[encoded data removed]",
      "text/plain": [
       "<Figure size 432x288 with 1 Axes>"
      ]
     },
     "metadata": {
      "needs_background": "light"
     },
     "output_type": "display_data"
    }
   ],
   "source": [
    "#Create a bar graph to depict the above obtained information.\n",
    "plt.bar(top_5,Ratio)\n",
    "plt.xticks(rotation=90)\n",
    "plt.xlabel('Instagram Handle')\n",
    "plt.ylabel('Average Followers To Like Ratio')\n",
    "plt.show()"
   ]
  }
 ],
 "metadata": {
  "kernelspec": {
   "display_name": "Python 3",
   "language": "python",
   "name": "python3"
  },
  "language_info": {
   "codemirror_mode": {
    "name": "ipython",
    "version": 3
   },
   "file_extension": ".py",
   "mimetype": "text/x-python",
   "name": "python",
   "nbconvert_exporter": "python",
   "pygments_lexer": "ipython3",
   "version": "3.7.6"
  }
 },
 "nbformat": 4,
 "nbformat_minor": 4
}

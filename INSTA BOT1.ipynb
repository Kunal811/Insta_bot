{
 "cells": [
  {
   "cell_type": "code",
   "execution_count": 1,
   "metadata": {},
   "outputs": [],
   "source": [
    "from selenium import webdriver\n",
    "from selenium.webdriver.common.keys import Keys \n",
    "from bs4 import BeautifulSoup as bs\n",
    "import time\n",
    "from selenium.webdriver.support.ui import WebDriverWait\n",
    "from selenium.webdriver.support import expected_conditions as EC\n",
    "from selenium.webdriver.common.by import By\n",
    "from selenium.webdriver.common.action_chains import ActionChains\n",
    "driver=webdriver.Chrome(executable_path = r'C:\\Users\\kunal\\Downloads\\chromedriver.exe')\n",
    "driver.get('https://www.instagram.com/')\n",
    "from selenium.common.exceptions import TimeoutException\n"
   ]
  },
  {
   "cell_type": "code",
   "execution_count": 3,
   "metadata": {},
   "outputs": [],
   "source": [
    "def login(username,password):\n",
    "    try:\n",
    "        text_box1=driver.find_element_by_xpath('//*[@id=\"react-root\"]/section/main/article/div[2]/div[1]/div/form/div[2]/div/label/input')\n",
    "        ##enter username\n",
    "        text_box1.send_keys(username)\n",
    "        text_box2=driver.find_element_by_xpath('//*[@id=\"react-root\"]/section/main/article/div[2]/div[1]/div/form/div[3]/div/label/input')\n",
    "        ##enter password\n",
    "        text_box2.send_keys(password)\n",
    "        #click login in button\n",
    "        driver.find_element_by_xpath('//*[@id=\"react-root\"]/section/main/article/div[2]/div[1]/div/form/div[4]/button/div').click()\n",
    "        wait=WebDriverWait(driver,5)\n",
    "\n",
    "        not_now_button=wait.until(EC.presence_of_element_located((By.XPATH,'/html/body/div[4]/div/div/div[3]/button[2]')))\n",
    "        not_now_button.click()\n",
    "    except TimeoutException:\n",
    "        print('wrong username or password')"
   ]
  },
  {
   "cell_type": "code",
   "execution_count": 3,
   "metadata": {},
   "outputs": [],
   "source": [
    "def print_food_handles():\n",
    "    driver.get('https://www.instagram.com/')\n",
    "    text_box=driver.find_element_by_class_name('XTCLo')\n",
    "    text_box.clear()\n",
    "    text_box.send_keys('food')\n",
    "    time.sleep(10)\n",
    "#     driver.implicitly_wait(5)\n",
    "    data1=bs(driver.page_source,'lxml')\n",
    "#     wait=WebDriverWait(driver,5)\n",
    "\n",
    "#     wait.until(EC.presence_of_element_located((By.XPATH,'//*[@id=\"react-root\"]/section/nav/div[2]/div/div/div[2]/div[2]/div[2]')))\n",
    "                                              \n",
    "    l1=data1.find_all('div',class_='fuqBx')\n",
    "    ##b represents list of all the food handles\n",
    "\n",
    "    b=l1[0].find_all('a',class_='yCE8d')\n",
    "    for i in b:\n",
    "        n1=i['href']\n",
    "        ##to not include hashtags and locations\n",
    "        if('explore' not in n1):\n",
    "            print(n1[1:-1])"
   ]
  },
  {
   "cell_type": "code",
   "execution_count": 5,
   "metadata": {},
   "outputs": [],
   "source": [
    "#Searching and Opening a profile \n",
    "def open_profile(handle):\n",
    "    driver.get('https://www.instagram.com/')\n",
    "    ##stext_bo represents the search box\n",
    "    text_bo=driver.find_element_by_class_name('XTCLo')\n",
    "    ##clear out any text writeen in the search box\n",
    "    text_bo.clear()\n",
    "    text_bo.send_keys(handle)\n",
    "    ##pressing the enter key to show the insta handle\n",
    "    driver.implicitly_wait(5)\n",
    "\n",
    "    driver.find_element_by_xpath('//*[@id=\"react-root\"]/section/nav/div[2]/div/div/div[2]/div[2]/div[2]/div/a[1]/div').click()"
   ]
  },
  {
   "cell_type": "code",
   "execution_count": 6,
   "metadata": {},
   "outputs": [],
   "source": [
    "def follow(handle):\n",
    "    driver.get('https://www.instagram.com/')\n",
    "    text_bo=driver.find_element_by_class_name('XTCLo')\n",
    "    ##clear out any text writeen in the search box\n",
    "    text_bo.clear()\n",
    "    text_bo.send_keys(handle)\n",
    "    ##pressing the enter key to show the insta handle\n",
    "    driver.find_element_by_xpath('//*[@id=\"react-root\"]/section/nav/div[2]/div/div/div[2]/div[2]/div[2]/div/a[1]/div').click()\n",
    "    wait=WebDriverWait(driver,10)\n",
    "\n",
    "    follow_button=wait.until(EC.presence_of_element_located((By.XPATH,'//*[@id=\"react-root\"]/section/main/div/header/section/div[1]/div[1]/span/span[1]/button')))\n",
    "    if(follow_button.text=='Following'):\n",
    "        print('Already following')\n",
    "    else:\n",
    "        follow_button.click()\n"
   ]
  },
  {
   "cell_type": "code",
   "execution_count": 7,
   "metadata": {},
   "outputs": [],
   "source": [
    "def unfollow(handle):\n",
    "    driver.get('https://www.instagram.com/')\n",
    "    text_bo=driver.find_element_by_class_name('XTCLo')\n",
    "    ##clear out any text writeen in the search box\n",
    "    text_bo.clear()\n",
    "    text_bo.send_keys(handle)\n",
    "    ##pressing the enter key to show the insta handle\n",
    "    driver.find_element_by_xpath('//*[@id=\"react-root\"]/section/nav/div[2]/div/div/div[2]/div[2]/div[2]/div/a[1]/div').click()\n",
    "    wait=WebDriverWait(driver,5)\n",
    "           \n",
    "    ##waiting for page to load\n",
    "    follow_button=wait.until(EC.presence_of_element_located((By.XPATH,'//*[@id=\"react-root\"]/section/main/div/header/section/div[1]/div[1]/span/span[1]/button')))\n",
    "\n",
    "    if(follow_button.text=='Follow'):\n",
    "        print('Already Unfollowed')\n",
    "    else:\n",
    "        follow_button.click()\n",
    "        unfollow_button=driver.find_element_by_xpath('/html/body/div[4]/div/div/div[3]/button[1]')\n",
    "        unfollow_button.click()"
   ]
  },
  {
   "cell_type": "code",
   "execution_count": 37,
   "metadata": {},
   "outputs": [],
   "source": [
    "def like_posts(handle):\n",
    "    driver.get('https://www.instagram.com/')\n",
    "    text_bo=driver.find_element_by_class_name('XTCLo')\n",
    "    ##clear out any text writeen in the search box\n",
    "    text_bo.clear()\n",
    "    text_bo.send_keys(handle)\n",
    "    driver.implicitly_wait(5)\n",
    "    ##pressing the enter key to show the insta handle\n",
    "    wait=WebDriverWait(driver,5)\n",
    "\n",
    "    driver.find_element_by_xpath('//*[@id=\"react-root\"]/section/nav/div[2]/div/div/div[2]/div[2]/div[2]/div/a[1]/div').click()\n",
    "    \n",
    "    ##wait till 1st posts arrives \n",
    "    wait.until(EC.presence_of_element_located((By.XPATH,'//*[@id=\"react-root\"]/section/main/div/div[3]/article/div[1]/div/div[1]')))\n",
    "    \n",
    "    \n",
    "    l=driver.find_elements_by_class_name('_9AhH0')\n",
    "    num=len(l)\n",
    "    actionChain=webdriver.ActionChains(driver)\n",
    "    ##while loop to scroll the wepage using action key space button so as to limit posts to 30\n",
    "    while(num<30):\n",
    "        actionChain.key_down(Keys.SPACE).key_up(Keys.SPACE).perform()\n",
    "        num=len(driver.find_elements_by_class_name('_9AhH0'))\n",
    "#         print(num)\n",
    "    ##to scroll back upwards so that liking of posts doesnt begin from an arbitirary point\n",
    "    driver.execute_script('window.scrollBy(0,-5000);')\n",
    "    time.sleep(5)\n",
    "    j=1\n",
    "    #for loop for liking the posts\n",
    "    for i in driver.find_elements_by_class_name('_9AhH0')[:30]:\n",
    "        j+=1\n",
    "        i.click()##click on post\n",
    "        like_info = driver.find_element_by_xpath('//div[@class=\"eo2As \"]/section[1]/span[1]/button/*[name()=\"svg\"]').get_attribute('aria-label')\n",
    "        if(like_info=='Unlike'):\n",
    "            print('already liked post number:'+str(j))\n",
    "        else:\n",
    "            ##click on like button\n",
    "            driver.find_element_by_xpath('/html/body/div[4]/div[2]/div/article/div[2]/section[1]/span[1]/button').click()\n",
    "        ##click on close button to close the post and move to next one\n",
    "        driver.find_element_by_xpath('/html/body/div[4]/div[3]/button').click()\n",
    "\n",
    "\n",
    "    "
   ]
  },
  {
   "cell_type": "code",
   "execution_count": 38,
   "metadata": {},
   "outputs": [],
   "source": [
    "def unlike_posts(handle):\n",
    "    driver.get('https://www.instagram.com/')\n",
    "    text_bo=driver.find_element_by_class_name('XTCLo')\n",
    "    ##clear out any text writeen in the search box\n",
    "    text_bo.clear()\n",
    "    text_bo.send_keys(handle)\n",
    "    driver.implicitly_wait(5)\n",
    "    ##pressing the enter key to show the insta handle\n",
    "    wait=WebDriverWait(driver,5)\n",
    "\n",
    "    driver.find_element_by_xpath('//*[@id=\"react-root\"]/section/nav/div[2]/div/div/div[2]/div[2]/div[2]/div/a[1]/div').click()\n",
    "    ##wait till 1st posts arrives \n",
    "    wait.until(EC.presence_of_element_located((By.XPATH,'//*[@id=\"react-root\"]/section/main/div/div[3]/article/div[1]/div/div[1]')))\n",
    "    \n",
    "    \n",
    "    l=driver.find_elements_by_class_name('_9AhH0')\n",
    "    num=len(l)\n",
    "    actionChain=webdriver.ActionChains(driver)\n",
    "    ##while loop to scroll the wepage using action key space button so as to limit posts to 30\n",
    "    while(num<30):\n",
    "        actionChain.key_down(Keys.SPACE).key_up(Keys.SPACE).perform()\n",
    "        num=len(driver.find_elements_by_class_name('_9AhH0'))\n",
    "#         print(num)\n",
    "    ##to scroll back upwards so that unliking of posts doesnt begin from an arbitirary point\n",
    "    driver.execute_script('window.scrollBy(0,-4000);')\n",
    "\n",
    "    time.sleep(5)\n",
    "    ##for loop for unliking the posts\n",
    "    j=1\n",
    "    for i in driver.find_elements_by_class_name('_9AhH0')[:30]:\n",
    "        \n",
    "        i.click()##click on post\n",
    "        like_info = driver.find_element_by_xpath('//div[@class=\"eo2As \"]/section[1]/span[1]/button/*[name()=\"svg\"]').get_attribute('aria-label')\n",
    "        if(like_info=='Like'):\n",
    "            print('already unliked post number:'+str(j))\n",
    "        else:\n",
    "            ##click on like button\n",
    "            driver.find_element_by_xpath('/html/body/div[4]/div[2]/div/article/div[2]/section[1]/span[1]/button').click()\n",
    "        j+=1\n",
    "        ##click on close button to close the post \n",
    "        driver.find_element_by_xpath('/html/body/div[4]/div[3]/button').click()\n",
    "  \n",
    "\n",
    "    "
   ]
  },
  {
   "cell_type": "code",
   "execution_count": 10,
   "metadata": {},
   "outputs": [],
   "source": [
    "def extract_followers(handle):\n",
    "        driver.get('https://www.instagram.com/')\n",
    "        text_bo=driver.find_element_by_class_name('XTCLo')\n",
    "        ##clear out any text writeen in the search box\n",
    "        text_bo.clear()\n",
    "        text_bo.send_keys(handle)\n",
    "        ##pressing the enter key to show the insta handle\n",
    "        wait=WebDriverWait(driver,5)\n",
    "        \n",
    "        driver.implicitly_wait(5)\n",
    "        \n",
    "        driver.find_element_by_xpath('//*[@id=\"react-root\"]/section/nav/div[2]/div/div/div[2]/div[2]/div[2]/div/a[1]/div').click()\n",
    "        ##waiting for page to load\n",
    "        wait.until(EC.presence_of_element_located((By.XPATH,'//*[@id=\"react-root\"]/section/main/div/div[3]/article/div[1]/div/div[1]')))\n",
    "        driver.find_element_by_partial_link_text('followers').click()\n",
    "\n",
    "\n",
    "        actionChain=webdriver.ActionChains(driver) #action chain object\n",
    "        \n",
    "        user_names=[]\n",
    "        num=len(driver.find_elements_by_class_name('FPmhX'))\n",
    "        \n",
    "        ##loop to scrool the followers dialog box so that 500 followers are visible\n",
    "        while(num<=500):\n",
    "            driver.find_element_by_class_name('isgrP').click() #shift focus to follower dialog box\n",
    "            actionChain.key_down(Keys.SPACE).key_up(Keys.SPACE).perform() #to scroll using space action button\n",
    "            num=len(driver.find_elements_by_class_name('FPmhX'))\n",
    "        \n",
    "        ##loop to extract name of first 500 follower    \n",
    "        for i in driver.find_elements_by_class_name('FPmhX')[:500]:\n",
    "               user_names.append(i.get_attribute('title'))\n",
    "                \n",
    "        ##close the followers dialog box\n",
    "        driver.find_element_by_xpath('/html/body/div[4]/div/div[1]/div/div[2]/button').click() \n",
    "        return user_names\n",
    "\n",
    "        \n",
    "        \n",
    "        \n",
    "        \n",
    "        "
   ]
  },
  {
   "cell_type": "code",
   "execution_count": 11,
   "metadata": {},
   "outputs": [],
   "source": [
    "##this function gives a list of followers of user\n",
    "def followers_of_user():\n",
    "    driver.get('https://www.instagram.com/')\n",
    "    driver.find_element_by_xpath('//*[@id=\"react-root\"]/section/nav/div[2]/div/div/div[3]/div/div[3]/a').click()##open my profile\n",
    "    wait=WebDriverWait(driver,5)\n",
    "    wait.until(EC.presence_of_element_located((By.XPATH,'//*[@id=\"react-root\"]/section/main/div/header/section/ul/li[2]/a')))\n",
    "    user_followers=int(driver.find_element_by_xpath('//*[@id=\"react-root\"]/section/main/div/header/section/ul/li[2]/a/span').get_attribute('title'))\n",
    "    \n",
    "\n",
    "\n",
    "    driver.find_element_by_partial_link_text('followers').click()\n",
    "\n",
    "\n",
    "    actionChain=webdriver.ActionChains(driver) #action chain object\n",
    "        \n",
    "    user_names=[]\n",
    "    num=len(driver.find_elements_by_class_name('FPmhX'))\n",
    "        \n",
    "        ##loop to scrool the followers dialog box so that 500 followers are visible\n",
    "    while(num!=user_followers):\n",
    "        driver.find_element_by_class_name('isgrP').click() #shift focus to follower dialog box\n",
    "        actionChain.key_down(Keys.SPACE).key_up(Keys.SPACE).perform() #to scroll using space action button\n",
    "        num=len(driver.find_elements_by_class_name('FPmhX'))\n",
    "#         print(num,user_followers)\n",
    "    my_followers=[]\n",
    "    for i in driver.find_elements_by_class_name('FPmhX')[:70]:\n",
    "           my_followers.append(i.get_attribute('title'))\n",
    "    driver.find_element_by_xpath('/html/body/div[4]/div/div[1]/div/div[2]/button').click() ##close the followers dialog box\n",
    "    return my_followers"
   ]
  },
  {
   "cell_type": "code",
   "execution_count": 12,
   "metadata": {},
   "outputs": [],
   "source": [
    "##this function gives the list of insta handles that user is following in the list of top 500 followers of that handle pased in function\n",
    "def followers_user_following(handle):\n",
    "    driver.get('https://www.instagram.com/')\n",
    "    text_bo=driver.find_element_by_class_name('XTCLo')\n",
    "    ##clear out any text writeen in the search box\n",
    "    text_bo.clear()\n",
    "    text_bo.send_keys(handle)\n",
    "    ##pressing the enter key to show the insta handle\n",
    "    wait=WebDriverWait(driver,5)\n",
    "        \n",
    "    driver.implicitly_wait(5)\n",
    "\n",
    "    driver.find_element_by_xpath('//*[@id=\"react-root\"]/section/nav/div[2]/div/div/div[2]/div[2]/div[2]/div/a[1]/div').click()\n",
    "        \n",
    "    wait.until(EC.presence_of_element_located((By.XPATH,'//*[@id=\"react-root\"]/section/main/div/div[3]/article/div[1]/div/div[1]')))\n",
    "    driver.find_element_by_partial_link_text('followers').click()\n",
    "    actionChain=webdriver.ActionChains(driver) #action chain object\n",
    "\n",
    "    user_names=[]\n",
    "    num=len(driver.find_elements_by_class_name('FPmhX'))\n",
    "        \n",
    "        ##loop to scrool the followers dialog box so that 500 followers are visible\n",
    "    while(num<500):\n",
    "        driver.find_element_by_class_name('pbNvD').click() #shift focus to follower dialog box\n",
    "        actionChain.key_down(Keys.SPACE).key_up(Keys.SPACE).perform() #to scroll using space action button\n",
    "        num=len(driver.find_elements_by_class_name('FPmhX'))\n",
    "    \n",
    "    following=[]\n",
    "    data=bs(driver.page_source,'lxml')\n",
    "    for i in data.find_all(class_='wo9IH')[:num]: ##list of all the followers\n",
    "        a=i.find(class_='sqdOP').string ##a gives the word following or follow \n",
    "        if(a=='Following'):\n",
    "#             print(a)\n",
    "            b=i.find(class_='FPmhX').string\n",
    "            following.append(b)\n",
    "#             print(b)\n",
    "    driver.find_element_by_xpath('/html/body/div[4]/div/div[1]/div/div[2]/button').click()\n",
    "    return following"
   ]
  },
  {
   "cell_type": "code",
   "execution_count": 13,
   "metadata": {},
   "outputs": [],
   "source": [
    "##to find list of users that user is following in the list of foodtalkindia followers but they are not following user back\n",
    "def not_following_back(user_following,user_followers):\n",
    "    for i in user_following:\n",
    "        if i not in user_followers:\n",
    "            print(i)"
   ]
  },
  {
   "cell_type": "code",
   "execution_count": 5,
   "metadata": {},
   "outputs": [],
   "source": [
    "##check the story of an instagram handle\n",
    "def story(handle):\n",
    "    driver.get('https://www.instagram.com/')\n",
    "    text_bo=driver.find_element_by_class_name('XTCLo')\n",
    "        ##clear out any text writeen in the search box\n",
    "    text_bo.clear()\n",
    "    text_bo.send_keys(handle)\n",
    "        ##pressing the enter key to show the insta handle\n",
    "    wait=WebDriverWait(driver,5)\n",
    "\n",
    "    driver.implicitly_wait(5)\n",
    "\n",
    "    driver.find_element_by_xpath('//*[@id=\"react-root\"]/section/nav/div[2]/div/div/div[2]/div[2]/div[2]/div/a[1]/div').click()\n",
    "    ##wait for story or profile icon to get loaded\n",
    "    story=wait.until(EC.presence_of_element_located((By.XPATH,'//*[@id=\"react-root\"]/section/main/div/header/div/div')))\n",
    "    \n",
    "    l=driver.find_elements_by_class_name('Ckrof')\n",
    "    \n",
    "    canvas=driver.find_element_by_class_name('CfWVH')\n",
    "    if(int(canvas.get_attribute('height'))==210 and int(canvas.get_attribute('width'))==210):\n",
    "        try:\n",
    "            story.click()\n",
    "            WebDriverWait(driver,5).until(EC.presence_of_element_located((By.XPATH,\"//div[(@class='yS4wN ')]\"))).click()\n",
    "            print('Story Viewed')\n",
    "        except TimeoutException:\n",
    "            print('so sad no story')\n",
    "\n",
    "    elif(int(canvas.get_attribute('height'))==208):\n",
    "        print('story has been viewed before')\n"
   ]
  },
  {
   "cell_type": "code",
   "execution_count": 7,
   "metadata": {},
   "outputs": [
    {
     "name": "stdout",
     "output_type": "stream",
     "text": [
      "Pls enter your username for login: kunal.babbar811\n",
      "Pls enter your password for login: kunu1998\n"
     ]
    }
   ],
   "source": [
    "Username=input('Pls enter your username for login: ')\n",
    "Password=input('Pls enter your password for login: ')\n",
    "login(Username,Password)"
   ]
  },
  {
   "cell_type": "code",
   "execution_count": 16,
   "metadata": {},
   "outputs": [
    {
     "name": "stdout",
     "output_type": "stream",
     "text": [
      "foodtalkindia\n",
      "foodie_incarnate\n",
      "foodnetwork\n",
      "foodzaara\n",
      "foodinsider\n",
      "food_fanatic_me\n",
      "food\n",
      "dilsefoodie\n",
      "foodbloggerai\n",
      "buzzfeedfood\n",
      "foodconnectindia\n",
      "foodiesince96\n",
      "foodnetworkkitchen\n",
      "foodie__suz\n",
      "foodville15\n",
      "food_lover_journey\n",
      "myfoodiescorner\n",
      "foodafouti\n",
      "the_foodie_bae\n",
      "food_lunatic\n",
      "yourfoodlab\n",
      "food_love_foodie\n",
      "foodcrazer\n",
      "food_gambler\n",
      "foodbloggerhyderabad\n",
      "dharti.ka.bhoj\n",
      "foodchoiceofmumbai\n",
      "hangouts.co.in\n",
      "food.junktion\n",
      "foodio.tech\n",
      "foodiecouple_parvan\n",
      "foodfactory0209\n",
      "thefoodattacker\n",
      "foodlamour\n",
      "thisisdelhi\n",
      "food.needxs\n",
      "foodloversindia\n",
      "foodon0\n",
      "foodtrails.india\n",
      "foodiesdelhite\n",
      "food_era_\n",
      "foodtrippers_by_manral\n",
      "food_addict_chandigarh\n",
      "the_travel_express\n",
      "the_foodie_dad\n",
      "buzzforfood\n",
      "foodissssloveee\n",
      "foodandwine\n",
      "foodgod\n",
      "food_lovers_mad\n",
      "food._.couple\n",
      "delhi_streets_food\n",
      "foodhallindia\n",
      "foodmoodin\n"
     ]
    }
   ],
   "source": [
    "##Type for “food” in search bar and print all the names of the Instagram Handles that are displayed in list after typing “food”\n",
    "print_food_handles()"
   ]
  },
  {
   "cell_type": "code",
   "execution_count": 21,
   "metadata": {},
   "outputs": [],
   "source": [
    "##Searching and Opening a profile using \n",
    "#Open profile of “So Delhi” \n",
    "open_profile('sodelhi')"
   ]
  },
  {
   "cell_type": "code",
   "execution_count": 22,
   "metadata": {},
   "outputs": [
    {
     "name": "stdout",
     "output_type": "stream",
     "text": [
      "Already following\n"
     ]
    }
   ],
   "source": [
    "#Start following it. Print a message if you are already following\n",
    "follow('sodelhi')"
   ]
  },
  {
   "cell_type": "code",
   "execution_count": 25,
   "metadata": {},
   "outputs": [
    {
     "name": "stdout",
     "output_type": "stream",
     "text": [
      "Already Unfollowed\n"
     ]
    }
   ],
   "source": [
    "#After following, unfollow the instagram handle. Print a message if you have already unfollowed.\n",
    "unfollow('sodelhi')"
   ]
  },
  {
   "cell_type": "code",
   "execution_count": 26,
   "metadata": {},
   "outputs": [],
   "source": [
    "#Liking the top 30 posts of the ‘dilsefoodie'. Print message if you have already liked it.\n",
    "like_posts('dilsefoodie')"
   ]
  },
  {
   "cell_type": "code",
   "execution_count": 39,
   "metadata": {
    "scrolled": true
   },
   "outputs": [
    {
     "name": "stdout",
     "output_type": "stream",
     "text": [
      "already unliked post number:1\n",
      "already unliked post number:2\n",
      "already unliked post number:3\n",
      "already unliked post number:4\n",
      "already unliked post number:5\n",
      "already unliked post number:6\n",
      "already unliked post number:7\n",
      "already unliked post number:8\n",
      "already unliked post number:9\n",
      "already unliked post number:10\n",
      "already unliked post number:11\n",
      "already unliked post number:12\n",
      "already unliked post number:13\n",
      "already unliked post number:14\n",
      "already unliked post number:15\n",
      "already unliked post number:16\n",
      "already unliked post number:17\n",
      "already unliked post number:18\n",
      "already unliked post number:19\n",
      "already unliked post number:20\n",
      "already unliked post number:21\n",
      "already unliked post number:22\n",
      "already unliked post number:23\n",
      "already unliked post number:24\n",
      "already unliked post number:25\n",
      "already unliked post number:26\n",
      "already unliked post number:27\n",
      "already unliked post number:28\n",
      "already unliked post number:29\n",
      "already unliked post number:30\n"
     ]
    }
   ],
   "source": [
    "#Unliking the top 30 posts of the ‘dilsefoodie’. Print message if you have already unliked it.\n",
    "unlike_posts('dilsefoodie')"
   ]
  },
  {
   "cell_type": "code",
   "execution_count": 41,
   "metadata": {},
   "outputs": [
    {
     "name": "stdout",
     "output_type": "stream",
     "text": [
      "['miniatureaquatic', 'aditisharmadesignstudio', 'sanket_daud', 'fooddeluge', 'valiant_prince62', 'a_photophile_cook', 'food.ieanywhere', 'homedesign629', 'deepika.64', 'travinia_2315', 'pallavinarulaa', 'jaiprakash87842', 'son_papdiiii', 'pulakmehrotra', 'hb_l2', 'my_wandering_delicacy', 'anartistsplate', 'goodfoodmood_club', 'konarkk', 'tanksampada', 'ii_gor_bhai_ii', 'boblimas', 'khatushyam___', 'its_ank03', 'thefoodiestomach', 'eat.withspoon', '_x__v.key__x_', 'saloniroy7', 'satyaa_narayan', 'toral.sanghavi', 'joshuacharles_2004', 'twbs1990', 'sagi_reddy', 'taresh.r.shahare', 'kirnforfn', 'dakshgoeloriginals', 'emomhanafiya_2001_tjk', 'wandererforever__', 'anmoljain09', 'monikparmar', '_neharustagi_', 'sonalholland_masterofwine', 'tomok78', 'annapurna_renu', 'lovelylittlecharms', '__itz__hitesh__sharma__', 's__bishnoi__29', 'eazydinerhyderabad', 'lifestyle_retuned', 'jk_residency', 'zzzzavew', 'craving_wish', 'superhitboymj', 'mehak2328', 'allrounder0369', 'anu_1380', 'anjifrozen', 'ssmriti575', 'tanvisood11', 'health_express_', 'eat_fix', 'crazyy__worldd', 'hetakhakhar', 'poyam_tyagi', 'pujashil059', 'foodishlane', 'fusionfoodjunctionofficial', 'harleenkaurr07', '1992.priya12', 'daivikahoney', 'foodjet__', 'diginityacademey', 'anita_khubchandani', 'maa_ka_khaana_', 'pujanacrestha', 'ashishthoratphotography', 'shraadhakappoor', 'vikas9.grover', 'yugendra_kommureddy', 'ajijdhabak', 'vis_hn_u___', 'chatori_jeebh_', 'eat.travel.repeat__', 'nargis_e_couture', 'flatteringflavours', 'ujala_hans_', 'diluuu74', 'your_cook.book', 'aswinpalanivel', 'moumitasfoodchannel', 'dwajge', 'foodworld2020_spsgr', 'letsdiginn_foodies', 'albertskitchen101', 'allseasons_gardening', 'oneforkstory', 'firstfloor.cafe', 'the_sassy_foods', 'nasrinkhan169', 'sangeeta.kitchen', 'grubrover2.0', 'adiitiii.10', 'parik3gambhir', '_doublechocolatewaffles._', 'thecookwithstories', 'mojtaba_pm.official', '1927___fatima', 'anu_punjabi', 'mg__lucky', 'khushichoudhary127', 'kartik.eya_pvt', 'foodie_photography27', 'food_blog_693', 'sadiya__sharieff__', 'mausam1602', 'anupama5914', 'explore.beautyof.india', 'foodblog.love', 'nitinkirasoi', 'yo_soup', 'jhanvi_rawat_96', 'pra.sept.1618', 'themeet2210', 'dish_on_that_table', 'shirvin_musnas', 'bilal__jhon__kurishingal', 'iharshitapandit', 'foodie_gram101', 'sonia.chugh61', 'conceptphotographyindia', 'nupursin', 'xiehui956', 'soundarya_foodiegal', 'chefandreamura', 'anushree_urstruly', 'delhi.streetfood', 'shark_bite7', 'the_dramaticsoul', 'nanuthapa_6', 'mjbabluchef6494', 'caitmayc', 'arsh_01official', 'balalalalab', 'supportersndefenders', 'bengaluru_thindipothi', 'jinty_rb', 'foodgobbling', 'maheshwari_utkarsh', 'tryingtastyfood', 'gauriwadhw', 'smile_chauhan13', 'i_am_fashion', 'krishnajangam6', 'saurabbh_srivastavaa', 'pan_apron', 'rituduaa', 'mohdshareq', 'chefjambo', 'foodsonway', 'popularessentials', 'chef_vj_aryan', 'chef.kocci', 'amitnarula2019', 'cutebaby2232', 'foodformood24', 'yummmmy_tummmy', 'theskyloveofficial', 'frame.and.shoot', 'pic.amor', 'rishiitaaa', '_coz_food_is_love', 'noshups', 'homehacks_love', 'ess.preet', 'foody.soul', 'partyhai', 'ghardirasoi', 'tunkieats', 'foodies_23may', 'springbee_honey', 'homechefaround_n', 'nancydrew35', 'varghese.jefin', 'saroj2401', 'mr__khan__0786', 'foodiyaan', 'refectionsthejuicebar', '_foodofficial_', 'trucktalesindia', 'kangscookingcorner', 'motimahalgurgaon', 'katmullaney89', 'keerthis_kitchencorner', 'food_vibz', 'preetamnavgrahe', 'foodylife.0', 'foddieaman', 'ange_l_face', 'colorfulandflavorful', 'shivvyshez', 'ourfoodexpeditions', 'casanova.zma', 'simran_manocha999', 'ravivishwkarma_5', 'ravi.raja.1253', 'shipra.paul', 'onkar.mandavkar', 'malanadfruit', '_oompaloompaaa__', '_.darken._knight._', 'navneetha_p', 'coolest_cute_b0y', 'cheap__mobiles', 'aamreen_27', 'mithudas979', 'craving_warriors', '_foodography_contest', 'cadebrilynn', 'foodcravingzzzz', 'ashish5448', 'nivetharavi03', 'prishachhabraa', 'asmaishak1620', 'iam_bajikrishna', 'riupatel2006', 'tangshus', 'masterpiece_eyes90', 'reeee_28', 'parinda279', 'rosha_n09', '_vii.v.xxix_', 'sweet_spicy_zingy', 'tirthani_mohit', 'smrutilisa', 'haso_india_no.1', 'peckishcooks', 'sunnyshadylife', 'sana_queens_trendz', 'ankush_bobate', 'flybytechventures', 'saprachetan', 'ansofficialss', 'desaitejas', 'aculinaryrhyme', 'boxofaliments', 'qures_hk', 'hungrybeeindia', 'sarcasm.wine', 'missjeansjournal', 'ambika.saharan', 'nitin_nonu05', 'sidh_arthsaini7', 'sujitpassarisujit', 'the_brown_boy_taste', 'adv_shahrukh_mundali', 'homechefcontest', 'essela_technologies_inc', 'josekuwait', 'georgeashlyn', 'jokerlover_01', 'cook_it_and_have_it', 'ideepakbalwani', 'khaleel6284', 'sudhirpatil66', 'chefjagdishbaroliya', 'bruslygameing', 'sidra_export', 'tanya_takhtani', 'myztictravels', 'wandering_daydreamer_', 'claybyakaar', 'shriyabhan', 'ablochoro', 'dreamyinteriors_kanhangad', 'theflakyflavours', 'thestoutshady', 'lenoy_lawrence', 'ashish_sharma411', 'peach.princess22u', 'essenamour', 'passionsandpeaches', 'yadu_sourabh', '_muhammed_shaheen_07', 'anshinid', 'mrmoustachescakes', 'omeshjain0', 'anoopgun', 'deliciousfoodelicious', 'varun_p.rastogi', 'therkitchen', 'khush_shah_2394', '_festive_fenny_', 'raccoon.purrs', 'inthenameoffooood', 'chef_saurabhmadan', 'stay_safe.store', 'amitroy.c', 'cheesylife_squad', 'manraj9000', 'harsh_soni_21', 'away_on_my_tuktuk', 'nomnomnom11_20', 'tiffinservicecharkop', 'good.housekeeping', 'amrit20222', 'mommytimesblog', 'theforkandspoon_', 'vohra_kshitij', 'minakshi_co', 'rrn2888', 'baateinbiharki', 'littlethickstruggles', 'aman_kitchen_', 'a.gri.m.a', 'mallabaliraj', 'nagar__karishma', 'ibn__batuta', 'adish_2serve', '_vishakha_07', 'joy_enjoy_familyrestaurant', 'craversbooty', 'foodlicious_by_nityaa', 'sharma.joya', 'luuh6786', '_dev_notty_baba', 'thakurshubhendupritam', 'kitchens_of_mumbai', 'lavyahuja', 'priya_dhage05', 'pearlicious_20', 'allaginikhil', 'rehan8055khan', 'smrithisomanath', '_.rahul._.__', 'allekhyaa.ch', 'aksh.ay3994', 'rijujhunjhunwala', 'bhumikhimasia27', 'dipthideepak', 'arar.9876__', 'rit129_', 'tirado3907', 'manishmarketonline', 'ram.yn', 'claudiarojasmorenoo', 'manjudinesh88', 'akshay_sangate_', 'yummassam', 'bombaiboi', 'eazydinerdelhi', 'simplyfoodicted', 'eazydiner', 'makeupbynatashaarya', 'kitchen_delightz', 'gauravchatterjee28', 'kushwahasunny1', 'sharmasannya', 'praveen_sha', 'gourmettreatsbylolo', 'jkcaterersdecorators', 'thefoodglaze', 'ritikalatwal', 'anamul4166', 'chinesewox', 'theweavingcanvas', 'renu.agrawal9', 'mohd.__.anas.__.as.__.0686_', 'organipro_india', 'spice.coast', 'froze_nfoodfactoryinc', 'nawabi_taste', 'baked_souffle', 'charu.gupta2309', 'shwet706', 'jgpsolutions', 'niro92.np', 'spark.eventmanagement', 'homeflavourfood', 'dhaka9546', '_believablyaudacious', 'karan_bhawnani', 'madhavkulshrestha30', 'writer.__unboxed', 'nutrie_li', 'mr_killer_4470', 'fekk_xd', 'charansahni', 'shampakitchen', 'xiaoling3385', 'kartavya.shah3', 'newmadrashotel', 'fashionglamdiva', 'letsfightcovid.in', 'mrchef.azizi', 'sado_kyoubashi', 'foodydestiney', 'the_pharmaboy', 'food.ranchi', 'priyanka.p.5036', 'saimas76', 'mohitbawa', 'kritymehra', 'aromatic_menu', 'cetrider', 'swapnilghole090', '_c_h_i_n_t_u_______9', 'jalsa.kar', 'food.holic25', 'parunair48', 'sonichintoo', 'youraj9374', 'tradais', 'thekathacook', 'komalsoni05k', 'nehagarg25', 'laksh9520', 'khadija_ayman99', 'yeda_tambiii', 'chandniconstructions', 'ita_da_ki_masu', 'abhi.jaiswal.790693', 'aadusuru2810', 'thesoulfulspoonbysim', 'janisha.15', 'swatijindal944', 'abdurrehmaan_77737', 'sanjaysharma180', 'empa_nadasdeverde', 'prakash.kapadia.376', 'morevoguethanever', 'crunchandartevent', 'islam_choudhury786', 'karan_jatav8861', 'arjunsworld879', 'silvercoin_atta', 'cuisineculture_01', 'hi.suresh.5199', 'mee_priyansh', '__.s_h_r_e_y_a_', 'dumma.dummi', 'samsfussionkitchen', 'arushi122', 'bakedwithlove_junne', 'negiankita90', 'krish_gulati01', 'caloriesnotcounted', 'chef.mutawakkil', 'shreya_nrng_02', 'ohsippingit', 'foodist_anuradha', 'niraj_bagul_2107', 'uggurnaaz.garima', 'suvichar_hm', 'diy_bites', 'prachi_tripathy_456', 'michjagger_14', 'kvish_7', 'mysweetinfusions', 'kiransrivastava09', 'nutrition_healthand', 'the_artsylens_88', 'davinder._dhiman', 'deepaksingh7231', 'gautam_shingala88', 'gayatri.ray.9', 'cleaninsight', 'theminimilistchef', 'kapurrita2', 'radptl', 'ssvinterior1', 'sagar.kulkarni.104', 'niyatikishore', 'inikitabhatia', 'journey_wid_food', 'idealposasia', 'pranita505', 'thescribblersdais', 'hungriestpanda', 'kulinarnoye5iskusstvo', 'ranjeetgouria415', 'beans_pradhan', 'jain_is_back_236', 'agrawalshubhrata', 'kamininishad434', 'day_in_heaven', 'rimz_30', 'nitinkhurana76', 'chinaboxvasantkunj', 'alinaaaa._14', 'ya_i_write_', 'syedshomekitchen', 'shiviverma6283', 'beekaay90', 'nahid.ark', 'akashkachara', 'monikameerwani', 'ashish_yawalkar', 'thedruidgarden', 'hey.i.know.u.bitch_._._', '96episodes']\n"
     ]
    }
   ],
   "source": [
    "#Extract the usernames of the first 500 followers of ‘foodtalkindia’ and ‘sodelhi’.\n",
    "l1=extract_followers('foodtalkindia')\n",
    "print(l1)\n",
    "##A note:- Sometimes these function while scrolling through the followers the function randomly clicks on a follower if \n",
    "##that happens please execute the function again "
   ]
  },
  {
   "cell_type": "code",
   "execution_count": 43,
   "metadata": {},
   "outputs": [
    {
     "name": "stdout",
     "output_type": "stream",
     "text": [
      "['rasodaniraani', 'the_wiseroy', 'itsmeshieladelima', 'ecstatic_visionary', 'aashish_av', 'nsbelievers', 'beard__some', 'sayanbera5', 'nishchay_2000', 'shivangini_rai', 'rajendra.sharma59', 'anshuman____jha', 'aadhar_chawla', '_sheena.bhatia_', 'thesecretweddingstories', 'photographyhub001', 'travinia_2315', 'safarwaala', 'swatigupta_227', 'sarthak_leo2507', 'iamssiddiqui', 'priyasaini_97', 'foodlover0098', 'nswtravelogue', 'ak6535079', 'hridi01', 'sidmehta__', 'golu_1001', 'catarina_alexandre25', 'sapnaagarwal123', 'starving_stories', 'sunnypal.sunnypal.5011', 'aarrpatureinsights', 'nikunj_47', 'vanshika_mittal02', 'kul_raghu', 'its_ank03', 'chinni_0007', 'nagpur_da_mere_jaan', 'katyayninaila', 'anil_padi', 'coloured_pie', '____where_are_the_avocados____', 'kaushikey', 'archit312', 'thinkpad_diaries', 'x_ibrahim_mohamed_x', 'sood9695', 'ritika_limaye21', 'spandansen', 'jackrebelshoes', 'foodypoonam', 'travelwithdanish', '_anjaliisharmaa_', 'shruti_pandeyy', 'kareem.gh456', 'annnaaa_0701', 'mahirakhan8674', 'busybee_nandita', 'decent_horny_delhi_05', 'rohit_gahlot29', 'ladakhmoments', 'jg29987', 'kartik.here', 'im5hivaminati', 'souradiproy', 'kanishq_basoya_dellhii0001', 'soulful_foodies', 'praful_mudgal0023', 'singh.abhyudaya', 'heartsandlaughters', 'vanshika3003_', 'instamodalrajathan2020', 'this_iz_dennis', 'kunal_babbar11', 'imanoj_06', 'sahaj_3400_official', 'zzzzavew', 'misfitversion2.0', 'deepakbharati434', 'varunsheoran.97', 'kanchiarora', 'ak_kanojia_', 'penningmyway', 'nandiniarora6', 'sonitalks', 'satvatattva', 'khushitanwarrrr', 'vntz_ntur', 'vabansal', 'r.a.j.o.j.h.a', 'wcdeepakbansal', 'dheerajdhingra30', 'stikageadventuregear', 'himanshu028june', 'shutterup2703', 'priya_kashyap_07', 'shubthakral', 'samikshaguptafineart', 'shubham.sohani', 'aesthete_binge', 'thebookshopcalcutta', 'pratts_cena', 'info.socialati', 'b_bhawna_01', 'chic.chocc', 'riya._.katoch', 'anveshika28', 'payal_284', 'goodboy556', 'bella25_tbc', 'bhenkayoda', 'anki.ta7219', 'riyafoody', 'daksh_sehdev', 'cuty9508', 'official_anishakataria', 'daksh.7', 'shrikantmishra612', 'prince_k04', 'alok.anupriya', 'harsha_wani', '_simmii_02', 'jyoti__singh_25', 'prason_s', 'harleenkaurr07', 'king_clincedouglas', 'ananyaapandey', '_g.u.r.u_', 'ramesh_29_04_', '__arnav_', 'asri_dipanshu', 'slytherinlastheir', 'gurpreet.1610', 'v.e.d.e.s.e', 'mdebleen', 'da_everywherist', '_dream_girl_223', 'kartik.arora__', 'asmita__kapoor', 'fashionchub', 'kaashishnijhawan', 'nimach_corner', 'hardik_ahir_505523', 'prashantgahlawat2', 'myszekmyszek', 'abhishekkk_official', 'imadhavjindal', 'xx__jih', 'i_harshit_sharma', 'anoushka5478', 'adtwot', 'parth_agarwal1811', 'shrutipillay', 'vijendraprajapati362017', 'roameatsleeprepeat', 'satchitt_', 'nikk_verma', 'its_inza', 'sachdevaarushi44', 'joy.iitd', 'sabkuchsachmuch', 'pria_jhaa', 'anysodhi', 'aksharr26', 'thenightschild', 'shambhu_thapa', 'mansi_jain7011', 'nainasingh4_83', 'sagarikachakraborty', '_manishkhanna', 'storeonlinewholesale', 'zorica.maric66', 'samairamittal19', 'newdelhiconnect', 'sukhpreet_kaur_4242', 'cap_model_shoot', 'saritachowdhory', 'monj578', 'garima_tarun_rai', 'zapppppppp', 'lovesaini700', 'hazal.sheikh', 'unknown_man022', 'shivanigour8', '_himansh_28', 'a_desserted_man', 'dibya205', 'robintya6i', 'annu8845727', 'kathuriaaman', 'smart___shubham18', 'sanjay_0902', 'harshtheconnoisseur', 'niharikaa_maheshwari', 'farzansaifi9871', 'guni_mulga_', 'ameihob_', 'komal.bhatti_', 'soumyasnaithani', '__.minorr_.melody_.0814', 'aman_manchanda00', 'puja1403sinha', 'risshhhuuuuu', 'hookah_creation', 'sunny_meena', 'yashmakhija001', 'jayant9444', 'panchnaina', 'danishkaptan', 'prajjval28', 'prince_chandila0007', 'itsshiv31', 'decodes_girl', 'dish_on_that_table', 'reallshi', 'shubham_tenguria_sufi_1721', 'nitikakukreja', 'desividesi2020', 'increase_followersre', 'carahulraghav', 'anniemukherjee', 'princegurjar_0007', 'sujeetkumar1771', 'rkinkar22', 'memer.bhakt', 'sighingsam', 'lovely_upadhya_', '_srishti_soni_', 'iamsudhirkumar', 'kamal_argentine', 'priya28suryavanshi', 'kumarnitholy', '_dorma_mmu_', 'fahadkhan6198', 'koviloclock', 'userashish', 'piyushjazz', 'ashutoshdang', 'raghavgoyal17', 'kartike9211', 'm_shueyb', 'adii_agg', 'toshitagulati', 'xtremeneat', 'wewanderdustyroads', 'prateek_ys12', 'radhikulous99', 'vm1407', 'muzicaldoctorz_', 'ash_shah', 'mannatfuggi', 'black.iridescence', 'chatoristan_', 'sidkohli', 'abhinav.mathur50', '_starlancer', 'kommalsingh', 'p_r_i_ya_n_k_a', 'raj_biscuit_bakery', 'dumplingenie', 'lavish.aggarwal22', 'zk.zoyakhan07', 'mahima.jha', 'tanvi_arora_17', 'simi_kaur_96', 'ekaantvaasi', 'divyabhatnagar.divs', 'geneoshia', 'manalitandon', 'priyank.joshiii', 'iamnehasolanki', 'thereluctanthobbyist', 'more_tasty_food', 'oneplus.photography_delhi', 'hadassah1811', 'khurananehaa', 'momo.monster_', 'anwarannu21', 'thatbrowniethough', 'kingkhan5396', 'inspiretoursandevents', 'shantanu2908', 'sillent.love.1023', 'saradha_u', '__aarushi1__', 'one_sided_lover_7', 'dikshasingla08', 'amit_rajput14', 'aggakriti', 'mayankajain0901', 'yukti_32', 'gag4n', 'deepikakhatri24', 'paranthasingh', 'shradhachopra', 'pawar_2000', 'ganeshkumar4846', 'kanishthaaaa', 'anmolraina80', 'ruchita_r_8', 'sameoldfluff', 'iakansha_chandela', 'konsamselena', '_.jasleenkaur._', 'pranavabhi', 'isha3271', 'apeksha.agnihotri.in', 'khannazim54', 'ganesh_jyoti', 'robinrobin566', 'pic.amor', 'chhotu_tiwari_0521', 'memoryweaversby_gg', 'mayankbhardwajj', 'farhask_', 'nadirhayat7', 'anu.arun13', 'nomadic_things', 'janaab_adil', 'iamsanchitmathur', 'rainer.reich', 'xfood.artx', 'feelingsgotavoice', 'd.mendigulati', 'tejaswini_0206', 'b_n_shukla9975', 'lordkashyap', 'rahul.katyal10', 'manibhardwaj__', 'priyalsiingh_', 'mittal_sarthak7', 'delicioushealthdigs', 'tkboss133', 'lokalfoodiee', 'ft.mishika', 'arya.sharma06', 'a.gri.m.a', 'cutegal000', 'thedelishdollop', 'sscollectionkkr', 'kiranjeetk688', 'mol_ecularfoodie', 'nagar_7', '_01sangam', 'farida.nabiyeva.16', 'dnm_hub', 'mohit_aggarwal_99', 'rakibmolla_', 'saroj2401', 'amitchudasama555', 'quirky_kiran', 'bharti.826', 'shivamgupta_1710', 'daniyawarisi', 'the__shivaay', 'cute_shine_shweta', 'vdawg_3', 'iamarjsha', 'rishabhdureja', '_pvtt.t_', 'laavanyaprakash', 'palashthakur', 'gandhisakshi_04', 'chelle_59', 'itashichoudhary', 'cuteksunil', 'lalitkrpuneria', 'harsh.bhutani', 'chironji.laal', 'oberoi_mayank', 'pappu.tandel.393', 'rajatyadav1307', 'rishabhraj28052001', 'enlit.er', 'ritika_purohit_', 'jograndjoseph', 'achanchlani', 'call__me_gabru', 'colorfulandflavorful', 'shajipuzhakkoolshaji', 'pra.sept.1618', 'swaangh', 'bansal_sanskriti', 'manasvigl12', 'jyotsna__wadhwa', 'sunnytaank91', 'vinodgwala7', 'antakcare', 'oyeladki', 'gargi_manral', 'purohit_satyajit', 'khanakhateraho', 'tryingtastyfood', 'deviant_delhi', 'rajveerkundan1', 'lukacheetham', '_penny_ruby_', 'boldsweetchick', '_gadgetsmania_', 'artbeat_by_himani', 's._k._s.9', 'nishant_ape', 'sanskrity_jain', 'oystersandbananas', 'raaul_chaudhary', 'tarunsh7', 'spirit_o_food', 'jhasaurav1818', 'adv_kamal.jeet1993', 'viratsahu216', 'kiirtiiguptaa', 'dermedico', 'life.is.a.beautiful.journey', 'johny_depp_2593', 'divyanswho', 'memelover3485', 'chic_n_chai', 'sanyayaya__', 'shaksheej', 'sidh_arthsaini7', 'ik.sarvottam', 'zalim_bade_lund_wala', '__viduu', 'devvanshii', 'caresswithwine', 'regenerated_plutonion', 'too_mch_me', 'sood_navya', 'rahulgulati96', 'javedaliworld', 'nayab_makeovers', 'casseseguglielmo', 'shutter_stoper_', 'naman.chawla', 'parvatlove', 'mytravelbite', 'suhuranaa', 'atrang_bakchodi', 'foodie_like_always', 'deep_trave11er', 'rediffmedia', 'meiraf343', 'power_knowlegde', 'abhik911', 'anrerp_003', 'queen._deepika', 'dhampurgreen', 'istehsan_akmal', 'sksharukh585', 'pree.ti642', '500_crore', 'praaachi_yadav', 'iam_milan07', 'homechef_bhavya', 'tulika_sarkar969', 'varunsharmathalia', '__pure_punjabi___', 'theshreyslay10', 'samritidhatwalia', 'rawatbharti07', 'maddy4foody', 'reeee_28', 'picture_n_pixel', 'advikrathore17', '_rajeshyadav2501', 'noor.chopra8', 'dewashish1', 'shreya_singh017', 'shubham.kmwt', 'aaliya.dhamija', 'dinesh23_dp', 'riya_singh_020', 'anita01952', 'chef_saanil', 'khatalesuraj', 'khane_pe_charchaaa', 'sonsmsonamchoudhary', 'adv_shilpibhatia90', 'rasikchandra', 'visual_comfort', 'babbumann667', 'shotsbyanindian', 'foodfiesta05', 'deepaksahu356', 'khan__fardeen', 'ray_l_s', 'tanisha.2627', 'nonu984', 'gu_rpreet96', 'dhruv.2806', 'skc.delhi', 'aakansha.21', 'bakshi5139', 'grubrover2.0', 'blur__________________________', 'svvndvn', 'manoj_moryani1401', '_muskan102_', 'afoodieconnoisseur']\n"
     ]
    }
   ],
   "source": [
    "l2=extract_followers('sodelhi')\n",
    "print(l2)\n",
    "##A note:- Sometimes these function while scrolling through the followers the function randomly clicks on a follower if \n",
    "##that happens please execute the function again "
   ]
  },
  {
   "cell_type": "code",
   "execution_count": 44,
   "metadata": {},
   "outputs": [
    {
     "name": "stdout",
     "output_type": "stream",
     "text": [
      "['aperture.through.a.gaddi', 'seemu_cs', '149ak.aditya', 'adityaygarg', 'shrd_388', 'yashkale12d', 'ppoverlord69420', 'amanbhadauria01', 'shre.yaaaaa', 'code_killer02', 'nimish_dham', 'ankur190300', 'harsh.kumar110400', 'rishabh.__7', 'dupindar', 'airon.rajat', 'darpanbajaj', 'vaiibhavv___', 'tanisha_garg__', 'prats006', 'vishesh.7', 'ankur_rohilla_thewarrior', 'no_more_liit_for_me', 'anuraggarg168', 'blyatboii69', 'therishavsinghania', 'tanzeelsidik', 'yuvraj_singh_0303', 'aniket_lakhotia', 'notpranavjain', 'sharad_05', 'vartik_sh', 'voyageur.96', 's.a.h.i.l.4.0', 'shashikant_k_y', 'akshat_dubey12', 'shubhamahuja_', 'i_am231', 'tushar_renjhen', 'maanit_s', 'jaivin_phogaat', 'raghavsenwal', 'apoorv0309', 'vishesh_khosla', 'sdagar1008', 'surrender_to_moiii', 'tan_05.12', 'iyogeshkinha', 'pratyush03082000', 'sinhahh', 'anandita_dhuria', 'smelling_the_f', 'khushi.prerak', 'aashraykapoor', 'alox_anand', 'jatin_goyal10', 'hemav_baid', 'prateekatyal', 'abhinav852', '_adxtyaa', '_rohan_ranaa', 'dr.drunkenstien', 'lakshaymalhotra8', 'baxtiaa', 'akshanshnain', 'pallav.bhardwaj', 'puruuwu', 'sidsinha08', 'soumay.gupta']\n"
     ]
    }
   ],
   "source": [
    "#print followers of user\n",
    "user_followers=followers_of_user()\n",
    "print(user_followers)"
   ]
  },
  {
   "cell_type": "code",
   "execution_count": 46,
   "metadata": {},
   "outputs": [
    {
     "name": "stdout",
     "output_type": "stream",
     "text": [
      "['chefandreamura']\n"
     ]
    }
   ],
   "source": [
    "#print handles that user is following among followers of foodtalkindia\n",
    "user_following=followers_user_following('foodtalkindia')\n",
    "print(user_following)\n",
    "###A note:- Sometimes these function while scrolling through the followers the function randomly clicks on a follower if \n",
    "##that happens please execute the function again "
   ]
  },
  {
   "cell_type": "code",
   "execution_count": 47,
   "metadata": {},
   "outputs": [
    {
     "name": "stdout",
     "output_type": "stream",
     "text": [
      "chefandreamura\n"
     ]
    }
   ],
   "source": [
    "##to find list of users that user is following in the list of foodtalkindia followers but they are not following user back\n",
    "not_following_back(user_following,user_followers)\n"
   ]
  },
  {
   "cell_type": "code",
   "execution_count": 17,
   "metadata": {},
   "outputs": [
    {
     "name": "stdout",
     "output_type": "stream",
     "text": [
      "story has been viewed before\n"
     ]
    }
   ],
   "source": [
    "##Check the story of ‘coding.ninjas’.\n",
    "story('foodtalkindia')"
   ]
  }
 ],
 "metadata": {
  "kernelspec": {
   "display_name": "Python 3",
   "language": "python",
   "name": "python3"
  },
  "language_info": {
   "codemirror_mode": {
    "name": "ipython",
    "version": 3
   },
   "file_extension": ".py",
   "mimetype": "text/x-python",
   "name": "python",
   "nbconvert_exporter": "python",
   "pygments_lexer": "ipython3",
   "version": "3.7.6"
  }
 },
 "nbformat": 4,
 "nbformat_minor": 4
}
